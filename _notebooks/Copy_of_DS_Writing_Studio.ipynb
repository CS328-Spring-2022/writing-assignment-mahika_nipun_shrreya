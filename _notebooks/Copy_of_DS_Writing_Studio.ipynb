{
  "cells": [
    {
      "cell_type": "code",
      "execution_count": 8,
      "metadata": {
        "colab": {
          "base_uri": "https://localhost:8080/"
        },
        "id": "Nyd6jJcyrjH6",
        "outputId": "edc058f1-2779-47c4-a4d7-d4b91fa92a7b"
      },
      "outputs": [
        {
          "name": "stderr",
          "output_type": "stream",
          "text": [
            "[nltk_data] Downloading package punkt to\n",
            "[nltk_data]     C:\\Users\\MAHIKA\\AppData\\Roaming\\nltk_data...\n",
            "[nltk_data]   Package punkt is already up-to-date!\n"
          ]
        }
      ],
      "source": [
        "import pandas as pd\n",
        "import numpy as np\n",
        "from matplotlib import pyplot as plt\n",
        "from gensim.models.doc2vec import Doc2Vec, TaggedDocument\n",
        "from nltk.tokenize import word_tokenize\n",
        "import nltk\n",
        "nltk.download('punkt')\n",
        "from sklearn.metrics.pairwise import cosine_similarity\n",
        "import networkx as nx\n",
        "import plotly.express as px\n",
        "import plotly.graph_objects as go"
      ]
    },
    {
      "cell_type": "code",
      "execution_count": 9,
      "metadata": {
        "id": "lRAaeCq_s5em"
      },
      "outputs": [
        {
          "name": "stdout",
          "output_type": "stream",
          "text": [
            "(49296, 5)\n"
          ]
        },
        {
          "data": {
            "text/html": [
              "<div>\n",
              "<style scoped>\n",
              "    .dataframe tbody tr th:only-of-type {\n",
              "        vertical-align: middle;\n",
              "    }\n",
              "\n",
              "    .dataframe tbody tr th {\n",
              "        vertical-align: top;\n",
              "    }\n",
              "\n",
              "    .dataframe thead th {\n",
              "        text-align: right;\n",
              "    }\n",
              "</style>\n",
              "<table border=\"1\" class=\"dataframe\">\n",
              "  <thead>\n",
              "    <tr style=\"text-align: right;\">\n",
              "      <th></th>\n",
              "      <th>Conference</th>\n",
              "      <th>Year</th>\n",
              "      <th>Title</th>\n",
              "      <th>Author</th>\n",
              "      <th>Affiliation</th>\n",
              "    </tr>\n",
              "  </thead>\n",
              "  <tbody>\n",
              "    <tr>\n",
              "      <th>0</th>\n",
              "      <td>NeurIPS</td>\n",
              "      <td>2006</td>\n",
              "      <td>Attentional Processing on a Spike-Based VLSI N...</td>\n",
              "      <td>Yingxue Wang</td>\n",
              "      <td>Swiss Federal Institute of Technology, Zurich</td>\n",
              "    </tr>\n",
              "    <tr>\n",
              "      <th>1</th>\n",
              "      <td>NeurIPS</td>\n",
              "      <td>2006</td>\n",
              "      <td>Attentional Processing on a Spike-Based VLSI N...</td>\n",
              "      <td>Rodney J Douglas</td>\n",
              "      <td>Institute of Neuroinformatics</td>\n",
              "    </tr>\n",
              "    <tr>\n",
              "      <th>2</th>\n",
              "      <td>NeurIPS</td>\n",
              "      <td>2006</td>\n",
              "      <td>Attentional Processing on a Spike-Based VLSI N...</td>\n",
              "      <td>Shih-Chii Liu</td>\n",
              "      <td>Institute for Neuroinformatics, University of ...</td>\n",
              "    </tr>\n",
              "    <tr>\n",
              "      <th>3</th>\n",
              "      <td>NeurIPS</td>\n",
              "      <td>2006</td>\n",
              "      <td>Multi-Task Feature Learning</td>\n",
              "      <td>Andreas Argyriou</td>\n",
              "      <td>Ecole Centrale de Paris</td>\n",
              "    </tr>\n",
              "    <tr>\n",
              "      <th>4</th>\n",
              "      <td>NeurIPS</td>\n",
              "      <td>2006</td>\n",
              "      <td>Multi-Task Feature Learning</td>\n",
              "      <td>Theos Evgeniou</td>\n",
              "      <td>INSEAD</td>\n",
              "    </tr>\n",
              "  </tbody>\n",
              "</table>\n",
              "</div>"
            ],
            "text/plain": [
              "  Conference  Year                                              Title  \\\n",
              "0    NeurIPS  2006  Attentional Processing on a Spike-Based VLSI N...   \n",
              "1    NeurIPS  2006  Attentional Processing on a Spike-Based VLSI N...   \n",
              "2    NeurIPS  2006  Attentional Processing on a Spike-Based VLSI N...   \n",
              "3    NeurIPS  2006                        Multi-Task Feature Learning   \n",
              "4    NeurIPS  2006                        Multi-Task Feature Learning   \n",
              "\n",
              "             Author                                        Affiliation  \n",
              "0      Yingxue Wang      Swiss Federal Institute of Technology, Zurich  \n",
              "1  Rodney J Douglas                      Institute of Neuroinformatics  \n",
              "2     Shih-Chii Liu  Institute for Neuroinformatics, University of ...  \n",
              "3  Andreas Argyriou                            Ecole Centrale de Paris  \n",
              "4    Theos Evgeniou                                             INSEAD  "
            ]
          },
          "execution_count": 9,
          "metadata": {},
          "output_type": "execute_result"
        }
      ],
      "source": [
        "df = pd.read_csv('./data/new_papers.csv')\n",
        "df = df.drop_duplicates()\n",
        "print(df.shape)\n",
        "df.head()"
      ]
    },
    {
      "cell_type": "code",
      "execution_count": 10,
      "metadata": {
        "id": "SVjgV3hVLg7i"
      },
      "outputs": [],
      "source": [
        "data = df['Title'].explode().unique()"
      ]
    },
    {
      "cell_type": "code",
      "execution_count": 11,
      "metadata": {
        "id": "rO9B5f9MLTm6"
      },
      "outputs": [],
      "source": [
        "tagged_data = [TaggedDocument(words=word_tokenize(_d.lower()), tags=[str(i)]) for i, _d in enumerate(data)]"
      ]
    },
    {
      "cell_type": "code",
      "execution_count": 12,
      "metadata": {
        "colab": {
          "base_uri": "https://localhost:8080/"
        },
        "id": "JC5uYfZSQCZl",
        "outputId": "dcb48f29-22b8-464a-836f-6e2467a086d2"
      },
      "outputs": [
        {
          "data": {
            "text/plain": [
              "[TaggedDocument(words=['attentional', 'processing', 'on', 'a', 'spike-based', 'vlsi', 'neural', 'network'], tags=['0']),\n",
              " TaggedDocument(words=['multi-task', 'feature', 'learning'], tags=['1']),\n",
              " TaggedDocument(words=['a', 'rate-distortion', 'approach', 'to', 'joint', 'pattern', 'alignment'], tags=['2']),\n",
              " TaggedDocument(words=['context', 'effects', 'in', 'category', 'learning', ':', 'an', 'investigation', 'of', 'four', 'probabilistic', 'models'], tags=['3']),\n",
              " TaggedDocument(words=['comparative', 'gene', 'prediction', 'using', 'conditional', 'random', 'fields'], tags=['4'])]"
            ]
          },
          "execution_count": 12,
          "metadata": {},
          "output_type": "execute_result"
        }
      ],
      "source": [
        "tagged_data[:5]"
      ]
    },
    {
      "cell_type": "code",
      "execution_count": 21,
      "metadata": {
        "id": "-3sT_E0ZLxQI"
      },
      "outputs": [
        {
          "name": "stdout",
          "output_type": "stream",
          "text": [
            "iteration 0\n",
            "iteration 1\n",
            "iteration 2\n",
            "iteration 3\n",
            "iteration 4\n",
            "iteration 5\n",
            "iteration 6\n",
            "iteration 7\n",
            "iteration 8\n",
            "iteration 9\n",
            "iteration 10\n",
            "iteration 11\n",
            "iteration 12\n",
            "iteration 13\n",
            "iteration 14\n",
            "iteration 15\n",
            "iteration 16\n",
            "iteration 17\n",
            "iteration 18\n",
            "iteration 19\n",
            "iteration 20\n",
            "iteration 21\n",
            "iteration 22\n",
            "iteration 23\n",
            "iteration 24\n",
            "iteration 25\n",
            "iteration 26\n",
            "iteration 27\n",
            "iteration 28\n",
            "iteration 29\n",
            "iteration 30\n",
            "iteration 31\n",
            "iteration 32\n",
            "iteration 33\n",
            "iteration 34\n",
            "iteration 35\n",
            "iteration 36\n",
            "iteration 37\n",
            "iteration 38\n",
            "iteration 39\n",
            "iteration 40\n",
            "iteration 41\n",
            "iteration 42\n",
            "iteration 43\n",
            "iteration 44\n",
            "iteration 45\n",
            "iteration 46\n",
            "iteration 47\n",
            "iteration 48\n",
            "iteration 49\n",
            "iteration 50\n",
            "iteration 51\n",
            "iteration 52\n",
            "iteration 53\n",
            "iteration 54\n",
            "iteration 55\n",
            "iteration 56\n",
            "iteration 57\n",
            "iteration 58\n",
            "iteration 59\n",
            "iteration 60\n",
            "iteration 61\n",
            "iteration 62\n",
            "iteration 63\n",
            "iteration 64\n",
            "iteration 65\n",
            "iteration 66\n",
            "iteration 67\n",
            "iteration 68\n",
            "iteration 69\n",
            "iteration 70\n",
            "iteration 71\n",
            "iteration 72\n",
            "iteration 73\n",
            "iteration 74\n",
            "iteration 75\n",
            "iteration 76\n",
            "iteration 77\n",
            "iteration 78\n",
            "iteration 79\n",
            "iteration 80\n",
            "iteration 81\n",
            "iteration 82\n",
            "iteration 83\n",
            "iteration 84\n",
            "iteration 85\n",
            "iteration 86\n",
            "iteration 87\n",
            "iteration 88\n",
            "iteration 89\n",
            "iteration 90\n",
            "iteration 91\n",
            "iteration 92\n",
            "iteration 93\n",
            "iteration 94\n",
            "iteration 95\n",
            "iteration 96\n",
            "iteration 97\n",
            "iteration 98\n",
            "iteration 99\n"
          ]
        }
      ],
      "source": [
        "max_epochs = 100\n",
        "vec_size = 20\n",
        "alpha = 0.025\n",
        "\n",
        "model = Doc2Vec(vector_size=vec_size,\n",
        "                alpha=alpha, \n",
        "                min_alpha=0.00025,\n",
        "                min_count=1,\n",
        "                dm = 0)\n",
        "  \n",
        "model.build_vocab(tagged_data)\n",
        "\n",
        "for epoch in range(max_epochs):\n",
        "    print('iteration {0}'.format(epoch))\n",
        "    model.train(tagged_data,\n",
        "                total_examples=model.corpus_count,\n",
        "                epochs=model.epochs)\n",
        "    # decrease the learning rate\n",
        "    model.alpha -= 0.0002\n",
        "    # fix the learning rate, no decay\n",
        "    model.min_alpha = model.alpha"
      ]
    },
    {
      "cell_type": "code",
      "execution_count": 22,
      "metadata": {},
      "outputs": [
        {
          "name": "stdout",
          "output_type": "stream",
          "text": [
            "Model Saved\n"
          ]
        }
      ],
      "source": [
        "model.save(\"./assets/d2v.model\")\n",
        "print(\"Model Saved\")"
      ]
    },
    {
      "cell_type": "code",
      "execution_count": 23,
      "metadata": {},
      "outputs": [],
      "source": [
        "temp_model = model"
      ]
    },
    {
      "cell_type": "code",
      "execution_count": 24,
      "metadata": {},
      "outputs": [],
      "source": [
        "model= Doc2Vec.load(\"./assets/d2v.model\")"
      ]
    },
    {
      "cell_type": "code",
      "execution_count": 25,
      "metadata": {
        "colab": {
          "base_uri": "https://localhost:8080/"
        },
        "id": "p5A6wQhmMdyg",
        "outputId": "ce9fc9e8-407c-4b38-e8eb-e7751c2a1a34"
      },
      "outputs": [
        {
          "name": "stdout",
          "output_type": "stream",
          "text": [
            "V1_infer [-0.11761708 -0.02214176  0.14515603 -0.09987899 -0.01099681  0.01713581\n",
            " -0.12182685 -0.07585438 -0.06130126  0.02854563  0.00179626  0.09377886\n",
            " -0.04359838  0.13938458  0.06054613 -0.01543916 -0.04054012 -0.07153811\n",
            "  0.00886612 -0.04245569]\n"
          ]
        },
        {
          "name": "stderr",
          "output_type": "stream",
          "text": [
            "C:\\Users\\MAHIKA\\AppData\\Local\\Temp\\ipykernel_28328\\1015966735.py:8: DeprecationWarning: Call to deprecated `docvecs` (The `docvecs` property has been renamed `dv`.).\n",
            "  similar_doc = model.docvecs.most_similar('1')\n"
          ]
        },
        {
          "name": "stdout",
          "output_type": "stream",
          "text": [
            "[('4147', 0.9009073972702026), ('8986', 0.8515761494636536), ('2165', 0.839266836643219), ('11669', 0.8338145017623901), ('1896', 0.8334353566169739), ('5366', 0.8333684206008911), ('4845', 0.8328126668930054), ('1705', 0.8322224020957947), ('12425', 0.830976665019989), ('1414', 0.8302884101867676)]\n",
            "[-1.1511896  -0.8862417   1.136339   -0.4533122   0.6660761  -0.70663875\n",
            "  0.6818575  -0.5741899   0.3944933   0.4704267   0.8484096   0.36100903\n",
            "  0.0593525   2.1841767   0.2276707  -0.5585859   0.07464463 -0.7543868\n",
            "  0.2710258   1.122398  ]\n"
          ]
        },
        {
          "name": "stderr",
          "output_type": "stream",
          "text": [
            "C:\\Users\\MAHIKA\\AppData\\Local\\Temp\\ipykernel_28328\\1015966735.py:12: DeprecationWarning: Call to deprecated `docvecs` (The `docvecs` property has been renamed `dv`.).\n",
            "  print(model.docvecs['1'])\n"
          ]
        }
      ],
      "source": [
        "model= Doc2Vec.load(\"./assets/d2v.model\")\n",
        "#to find the vector of a document which is not in training data\n",
        "test_data = word_tokenize(\"I love chatbots\".lower())\n",
        "v1 = model.infer_vector(test_data)\n",
        "print(\"V1_infer\", v1)\n",
        "\n",
        "# to find most similar doc using tags\n",
        "similar_doc = model.docvecs.most_similar('1')\n",
        "print(similar_doc)\n",
        "\n",
        "# to find vector of doc in training data using tags or in other words, printing the vector of document at index 1 in training data\n",
        "print(model.docvecs['1'])"
      ]
    },
    {
      "cell_type": "code",
      "execution_count": 26,
      "metadata": {
        "colab": {
          "base_uri": "https://localhost:8080/"
        },
        "id": "FUlblAIrQLMM",
        "outputId": "368ae539-a80a-4ff8-8470-5099bfeb3725"
      },
      "outputs": [
        {
          "ename": "AttributeError",
          "evalue": "The vocab attribute was removed from KeyedVector in Gensim 4.0.0.\nUse KeyedVector's .key_to_index dict, .index_to_key list, and methods .get_vecattr(key, attr) and .set_vecattr(key, attr, new_val) instead.\nSee https://github.com/RaRe-Technologies/gensim/wiki/Migrating-from-Gensim-3.x-to-4",
          "output_type": "error",
          "traceback": [
            "\u001b[1;31m---------------------------------------------------------------------------\u001b[0m",
            "\u001b[1;31mAttributeError\u001b[0m                            Traceback (most recent call last)",
            "\u001b[1;32md:\\Files\\Semester_6\\Data_Science\\Writing\\writing-assignment-mahika_nipun_shrreya\\_notebooks\\Copy_of_DS_Writing_Studio.ipynb Cell 11'\u001b[0m in \u001b[0;36m<cell line: 1>\u001b[1;34m()\u001b[0m\n\u001b[1;32m----> <a href='vscode-notebook-cell:/d%3A/Files/Semester_6/Data_Science/Writing/writing-assignment-mahika_nipun_shrreya/_notebooks/Copy_of_DS_Writing_Studio.ipynb#ch0000007?line=0'>1</a>\u001b[0m \u001b[39mlist\u001b[39m(model\u001b[39m.\u001b[39;49mwv\u001b[39m.\u001b[39;49mvocab\u001b[39m.\u001b[39mitems())[:\u001b[39m5\u001b[39m]\n",
            "File \u001b[1;32mD:\\Software\\Anaconda\\envs\\cs328_writing_new\\lib\\site-packages\\gensim\\models\\keyedvectors.py:661\u001b[0m, in \u001b[0;36mKeyedVectors.vocab\u001b[1;34m(self)\u001b[0m\n\u001b[0;32m    <a href='file:///d%3A/Software/Anaconda/envs/cs328_writing_new/lib/site-packages/gensim/models/keyedvectors.py?line=658'>659</a>\u001b[0m \u001b[39m@property\u001b[39m\n\u001b[0;32m    <a href='file:///d%3A/Software/Anaconda/envs/cs328_writing_new/lib/site-packages/gensim/models/keyedvectors.py?line=659'>660</a>\u001b[0m \u001b[39mdef\u001b[39;00m \u001b[39mvocab\u001b[39m(\u001b[39mself\u001b[39m):\n\u001b[1;32m--> <a href='file:///d%3A/Software/Anaconda/envs/cs328_writing_new/lib/site-packages/gensim/models/keyedvectors.py?line=660'>661</a>\u001b[0m     \u001b[39mraise\u001b[39;00m \u001b[39mAttributeError\u001b[39;00m(\n\u001b[0;32m    <a href='file:///d%3A/Software/Anaconda/envs/cs328_writing_new/lib/site-packages/gensim/models/keyedvectors.py?line=661'>662</a>\u001b[0m         \u001b[39m\"\u001b[39m\u001b[39mThe vocab attribute was removed from KeyedVector in Gensim 4.0.0.\u001b[39m\u001b[39m\\n\u001b[39;00m\u001b[39m\"\u001b[39m\n\u001b[0;32m    <a href='file:///d%3A/Software/Anaconda/envs/cs328_writing_new/lib/site-packages/gensim/models/keyedvectors.py?line=662'>663</a>\u001b[0m         \u001b[39m\"\u001b[39m\u001b[39mUse KeyedVector\u001b[39m\u001b[39m'\u001b[39m\u001b[39ms .key_to_index dict, .index_to_key list, and methods \u001b[39m\u001b[39m\"\u001b[39m\n\u001b[0;32m    <a href='file:///d%3A/Software/Anaconda/envs/cs328_writing_new/lib/site-packages/gensim/models/keyedvectors.py?line=663'>664</a>\u001b[0m         \u001b[39m\"\u001b[39m\u001b[39m.get_vecattr(key, attr) and .set_vecattr(key, attr, new_val) instead.\u001b[39m\u001b[39m\\n\u001b[39;00m\u001b[39m\"\u001b[39m\n\u001b[0;32m    <a href='file:///d%3A/Software/Anaconda/envs/cs328_writing_new/lib/site-packages/gensim/models/keyedvectors.py?line=664'>665</a>\u001b[0m         \u001b[39m\"\u001b[39m\u001b[39mSee https://github.com/RaRe-Technologies/gensim/wiki/Migrating-from-Gensim-3.x-to-4\u001b[39m\u001b[39m\"\u001b[39m\n\u001b[0;32m    <a href='file:///d%3A/Software/Anaconda/envs/cs328_writing_new/lib/site-packages/gensim/models/keyedvectors.py?line=665'>666</a>\u001b[0m     )\n",
            "\u001b[1;31mAttributeError\u001b[0m: The vocab attribute was removed from KeyedVector in Gensim 4.0.0.\nUse KeyedVector's .key_to_index dict, .index_to_key list, and methods .get_vecattr(key, attr) and .set_vecattr(key, attr, new_val) instead.\nSee https://github.com/RaRe-Technologies/gensim/wiki/Migrating-from-Gensim-3.x-to-4"
          ]
        }
      ],
      "source": [
        "list(model.wv.vocab.items())[:5]"
      ]
    },
    {
      "cell_type": "code",
      "execution_count": 28,
      "metadata": {
        "id": "jD0Fwx-OSlko"
      },
      "outputs": [
        {
          "name": "stderr",
          "output_type": "stream",
          "text": [
            "C:\\Users\\MAHIKA\\AppData\\Local\\Temp\\ipykernel_28328\\338211467.py:4: DeprecationWarning: Call to deprecated `docvecs` (The `docvecs` property has been renamed `dv`.).\n",
            "  temp = model.docvecs[i]\n"
          ]
        }
      ],
      "source": [
        "title_embeddings = []\n",
        "# for i in range(len(model.docvecs)):\n",
        "for i in range(100):\n",
        "  temp = model.docvecs[i]\n",
        "  title_embeddings.append(temp)\n",
        "title_embeddings = np.array(title_embeddings)"
      ]
    },
    {
      "cell_type": "code",
      "execution_count": 29,
      "metadata": {
        "colab": {
          "base_uri": "https://localhost:8080/"
        },
        "id": "U3g39P9aTIBD",
        "outputId": "db9c78e8-1a9e-42a1-9ae3-4690c0711ac2"
      },
      "outputs": [
        {
          "name": "stdout",
          "output_type": "stream",
          "text": [
            "<class 'numpy.ndarray'>\n",
            "<class 'numpy.ndarray'>\n"
          ]
        },
        {
          "data": {
            "text/plain": [
              "array([[-0.44085518,  1.2876868 ,  1.0149361 , -1.5619195 ,  0.71958053,\n",
              "        -0.7046075 , -3.1385162 , -0.8460909 ,  0.29075068, -2.729757  ,\n",
              "        -1.9066424 ,  1.0171617 ,  2.1519902 ,  3.2519345 ,  0.7662354 ,\n",
              "         0.09284754, -0.19611257, -1.0221146 ,  0.07754012,  1.0171894 ],\n",
              "       [-1.1511896 , -0.8862417 ,  1.136339  , -0.4533122 ,  0.6660761 ,\n",
              "        -0.70663875,  0.6818575 , -0.5741899 ,  0.3944933 ,  0.4704267 ,\n",
              "         0.8484096 ,  0.36100903,  0.0593525 ,  2.1841767 ,  0.2276707 ,\n",
              "        -0.5585859 ,  0.07464463, -0.7543868 ,  0.2710258 ,  1.122398  ],\n",
              "       [-1.6546516 , -1.878843  ,  3.2909744 , -1.9078486 , -0.82693344,\n",
              "         1.585865  ,  0.00402441, -1.7932957 , -0.98304623, -0.2804061 ,\n",
              "        -1.725679  ,  0.8409031 , -0.6789663 ,  1.086976  , -1.2229458 ,\n",
              "         0.08132533,  0.07302719,  0.85851455,  0.22113597,  2.8665552 ],\n",
              "       [-2.9025395 , -1.8851333 ,  0.8209829 ,  1.1309232 , -0.3015924 ,\n",
              "        -0.28016096, -1.5019313 , -1.1959192 , -0.33890644, -2.1168797 ,\n",
              "        -0.53886515,  1.6227611 , -0.8517983 ,  0.9396708 , -0.732411  ,\n",
              "        -1.2293937 , -1.3160193 , -2.3827577 ,  0.6732525 ,  2.1848145 ],\n",
              "       [-0.40804783, -0.30604014,  2.0607214 , -3.2167091 ,  0.4500681 ,\n",
              "        -1.3402107 ,  0.6465729 , -1.9720765 ,  1.4560941 , -1.4797698 ,\n",
              "        -2.148144  , -1.5609778 ,  0.32564998,  2.1787    , -0.70792025,\n",
              "         0.18642172, -0.2928297 , -1.9615068 ,  1.1637031 , -0.1308633 ]],\n",
              "      dtype=float32)"
            ]
          },
          "execution_count": 29,
          "metadata": {},
          "output_type": "execute_result"
        }
      ],
      "source": [
        "print(type(title_embeddings))\n",
        "print(type(title_embeddings[0]))\n",
        "title_embeddings[:5]"
      ]
    },
    {
      "cell_type": "code",
      "execution_count": 30,
      "metadata": {
        "colab": {
          "base_uri": "https://localhost:8080/"
        },
        "id": "1L3E1hSPR9pt",
        "outputId": "394ff359-9663-4a8e-e282-7c8099d8bd39"
      },
      "outputs": [
        {
          "name": "stdout",
          "output_type": "stream",
          "text": [
            "(100, 100)\n"
          ]
        }
      ],
      "source": [
        "similarity_matrix = cosine_similarity(title_embeddings)\n",
        "print(similarity_matrix.shape)"
      ]
    },
    {
      "cell_type": "code",
      "execution_count": null,
      "metadata": {
        "id": "CUXJmMrQU4cr"
      },
      "outputs": [],
      "source": []
    },
    {
      "cell_type": "code",
      "execution_count": 31,
      "metadata": {
        "colab": {
          "base_uri": "https://localhost:8080/",
          "height": 268
        },
        "id": "7D4Qfl5yVCh2",
        "outputId": "d0161458-2f2d-48e6-cba7-75868b171ef5"
      },
      "outputs": [
        {
          "data": {
            "image/png": "[encoded data removed]",
            "text/plain": [
              "<Figure size 432x288 with 1 Axes>"
            ]
          },
          "metadata": {
            "needs_background": "light"
          },
          "output_type": "display_data"
        }
      ],
      "source": [
        "a = similarity_matrix\n",
        "plt.imshow(a, cmap='hot', interpolation='nearest')\n",
        "plt.show()"
      ]
    },
    {
      "cell_type": "code",
      "execution_count": 32,
      "metadata": {
        "colab": {
          "base_uri": "https://localhost:8080/",
          "height": 272
        },
        "id": "G2ESJCXoSSGt",
        "outputId": "56c9ffe0-6b5e-4899-ae30-8f94667b862b"
      },
      "outputs": [
        {
          "ename": "ModuleNotFoundError",
          "evalue": "No module named 'seaborn'",
          "output_type": "error",
          "traceback": [
            "\u001b[1;31m---------------------------------------------------------------------------\u001b[0m",
            "\u001b[1;31mModuleNotFoundError\u001b[0m                       Traceback (most recent call last)",
            "\u001b[1;32md:\\Files\\Semester_6\\Data_Science\\Writing\\writing-assignment-mahika_nipun_shrreya\\_notebooks\\Copy_of_DS_Writing_Studio.ipynb Cell 17'\u001b[0m in \u001b[0;36m<cell line: 2>\u001b[1;34m()\u001b[0m\n\u001b[0;32m      <a href='vscode-notebook-cell:/d%3A/Files/Semester_6/Data_Science/Writing/writing-assignment-mahika_nipun_shrreya/_notebooks/Copy_of_DS_Writing_Studio.ipynb#ch0000013?line=0'>1</a>\u001b[0m \u001b[39mimport\u001b[39;00m \u001b[39mnumpy\u001b[39;00m \u001b[39mas\u001b[39;00m \u001b[39mnp\u001b[39;00m\n\u001b[1;32m----> <a href='vscode-notebook-cell:/d%3A/Files/Semester_6/Data_Science/Writing/writing-assignment-mahika_nipun_shrreya/_notebooks/Copy_of_DS_Writing_Studio.ipynb#ch0000013?line=1'>2</a>\u001b[0m \u001b[39mimport\u001b[39;00m \u001b[39mseaborn\u001b[39;00m \u001b[39mas\u001b[39;00m \u001b[39msns\u001b[39;00m\n\u001b[0;32m      <a href='vscode-notebook-cell:/d%3A/Files/Semester_6/Data_Science/Writing/writing-assignment-mahika_nipun_shrreya/_notebooks/Copy_of_DS_Writing_Studio.ipynb#ch0000013?line=2'>3</a>\u001b[0m \u001b[39mimport\u001b[39;00m \u001b[39mmatplotlib\u001b[39;00m\u001b[39m.\u001b[39;00m\u001b[39mpylab\u001b[39;00m \u001b[39mas\u001b[39;00m \u001b[39mplt\u001b[39;00m\n\u001b[0;32m      <a href='vscode-notebook-cell:/d%3A/Files/Semester_6/Data_Science/Writing/writing-assignment-mahika_nipun_shrreya/_notebooks/Copy_of_DS_Writing_Studio.ipynb#ch0000013?line=4'>5</a>\u001b[0m uniform_data \u001b[39m=\u001b[39m similarity_matrix\n",
            "\u001b[1;31mModuleNotFoundError\u001b[0m: No module named 'seaborn'"
          ]
        }
      ],
      "source": [
        "import numpy as np\n",
        "import seaborn as sns\n",
        "import matplotlib.pylab as plt\n",
        "\n",
        "uniform_data = similarity_matrix\n",
        "ax = sns.heatmap(uniform_data, linewidth=0.5)\n",
        "plt.show()"
      ]
    },
    {
      "cell_type": "code",
      "execution_count": 33,
      "metadata": {
        "id": "FEvD06hMUa8J"
      },
      "outputs": [],
      "source": [
        "# create nx graph from sim matrix\n",
        "G = nx.to_networkx_graph(similarity_matrix)"
      ]
    },
    {
      "cell_type": "code",
      "execution_count": 34,
      "metadata": {
        "colab": {
          "base_uri": "https://localhost:8080/",
          "height": 319
        },
        "id": "K94Uf464VTqa",
        "outputId": "4af077a5-6726-4670-fc89-9d62c1ce5da4"
      },
      "outputs": [
        {
          "data": {
            "image/png": "[encoded data removed]",
            "text/plain": [
              "<Figure size 432x288 with 1 Axes>"
            ]
          },
          "metadata": {},
          "output_type": "display_data"
        }
      ],
      "source": [
        "nx.draw(G, with_labels=True, font_weight='bold')"
      ]
    },
    {
      "cell_type": "code",
      "execution_count": 36,
      "metadata": {
        "id": "V58KvEFSXZ8l"
      },
      "outputs": [],
      "source": [
        "def create_node_trace(G):\n",
        "    # collect node information from G to plot\n",
        "    node_x = []\n",
        "    node_y = []\n",
        "    node_text = []\n",
        "    node_color = []\n",
        "\n",
        "    for i, node in enumerate(G.nodes(data=True)):\n",
        "        # get node x,y position and store\n",
        "        x, y = node[1]['pos']\n",
        "        node_x.append(x)\n",
        "        node_y.append(y)\n",
        "\n",
        "        node_text.append(node[1]['text'])\n",
        "        node_color.append(node[1]['color'])\n",
        "\n",
        "    # create node trace (i.e., scatter plot)\n",
        "    # make it invisible by default\n",
        "    node_trace = go.Scatter(\n",
        "        x=node_x, y=node_y,\n",
        "        mode='markers',\n",
        "        hoverinfo='text',\n",
        "        marker=dict(\n",
        "            showscale=False,\n",
        "            color=node_color,\n",
        "            size=16,\n",
        "            line_width=0.5,\n",
        "        ),\n",
        "        text=node_text,\n",
        "        visible=False\n",
        "    )\n",
        "\n",
        "    return node_trace"
      ]
    },
    {
      "cell_type": "code",
      "execution_count": 37,
      "metadata": {
        "id": "y4HcS-8jXiDO"
      },
      "outputs": [],
      "source": [
        "def create_edge_trace(G):\n",
        "    # collect edges information from G to plot\n",
        "    edge_weight = []\n",
        "    edge_text = []\n",
        "    edge_pos = []\n",
        "    edge_color = []\n",
        "    \n",
        "    for edge in G.edges(data=True):\n",
        "        \n",
        "        # edge is line connecting two points\n",
        "        x0, y0 = G.nodes[edge[0]]['pos']\n",
        "        x1, y1 = G.nodes[edge[1]]['pos']\n",
        "        edge_pos.append([[x0, x1, None], [y0, y1, None]])\n",
        "        \n",
        "        # edge line color when drawn\n",
        "        edge_color.append(\"black\")\n",
        "\n",
        "    # there is a trace for each edge\n",
        "    edge_traces = []\n",
        "    for i in range(len(edge_pos)):\n",
        "        \n",
        "        # edge line width\n",
        "        line_width = 1\n",
        "\n",
        "        # is scatter because it is line connecting two points\n",
        "        trace = go.Scatter(\n",
        "            x=edge_pos[i][0], y=edge_pos[i][1],\n",
        "            line=dict(width=line_width, color=edge_color[i]),\n",
        "            mode='lines',\n",
        "            visible=False\n",
        "        )\n",
        "        edge_traces.append(trace)\n",
        "\n",
        "    return edge_traces"
      ]
    },
    {
      "cell_type": "code",
      "execution_count": 38,
      "metadata": {
        "id": "nBu_jKLpXkw-"
      },
      "outputs": [],
      "source": [
        "def filter_similarity_matrix_at_step(square_matrix, step_value):\n",
        "    # copy matrix\n",
        "    aux = square_matrix.copy()\n",
        "    \n",
        "    # set as NaN all values equal to or below threshold value\n",
        "    aux[aux <= step_value] = np.nan\n",
        "    \n",
        "    # return filtered matrix\n",
        "    return aux"
      ]
    },
    {
      "cell_type": "code",
      "execution_count": 40,
      "metadata": {
        "id": "JKBoBSVZXnGt"
      },
      "outputs": [],
      "source": [
        "def get_interactive_slider_similarity_graph(square_matrix, slider_values, node_text=None, yaxisrange=None, xaxisrange=None):\n",
        "    \n",
        "    # Create figure with plotly\n",
        "    fig = go.Figure()\n",
        "\n",
        "    # key: slider value\n",
        "    # value: list of traces to display for that slider value\n",
        "    slider_dict = {}\n",
        "    \n",
        "    # total number of traces\n",
        "    total_n_traces = 0\n",
        "    \n",
        "    # node positions on plot\n",
        "    #node_pos = None\n",
        "\n",
        "    # for each possible value in the slider, create and store traces (i.e., plots)\n",
        "    for i, step_value in enumerate(slider_values):\n",
        "\n",
        "        # update similarity matrix for the current step\n",
        "        aux = filter_similarity_matrix_at_step(square_matrix, step_value)\n",
        "\n",
        "        # create nx graph from sim matrix\n",
        "        G = nx.to_networkx_graph(aux)\n",
        "        \n",
        "        # remove edges for 0 weight (NaN)\n",
        "        G.remove_edges_from([(a, b) for a, b, attrs in G.edges(data=True) if np.isnan(attrs[\"weight\"])])\n",
        "\n",
        "        # assign node positions if None\n",
        "        node_pos = nx.nx_pydot.graphviz_layout(G)\n",
        "\n",
        "        # populate nodes with meta information\n",
        "        for node in G.nodes(data=True):\n",
        "            \n",
        "            # node position\n",
        "            node[1]['pos'] = node_pos[node[0]]\n",
        "\n",
        "            # node color\n",
        "            node[1]['color'] = \"orange\"\n",
        "\n",
        "            # node text on hover if any is specified else is empty\n",
        "            if node_text is not None:\n",
        "                node[1]['text'] = node_text[node[0]]\n",
        "            else:\n",
        "                node[1]['text'] = \"\"\n",
        "\n",
        "        # create edge taces (each edge is a trace, thus this is a list)\n",
        "        edge_traces = create_edge_trace(G)\n",
        "        \n",
        "        # create node trace (a single trace for all nodes, thus it is not a list)\n",
        "        node_trace = create_node_trace(G) \n",
        "\n",
        "        # store edge+node traces as single list for the current step value\n",
        "        slider_dict[step_value] = edge_traces + [node_trace]\n",
        "        \n",
        "        # keep count of the total number of traces\n",
        "        total_n_traces += len(slider_dict[step_value])\n",
        "\n",
        "        # make sure that the first slider value is active for visualization\n",
        "        if i == 0:\n",
        "            for trace in slider_dict[step_value]:\n",
        "                # make visible\n",
        "                trace.visible = True\n",
        "\n",
        "                \n",
        "    # Create steps objects (one step per step_value)\n",
        "    steps = []\n",
        "    for step_value in slider_values:\n",
        "        \n",
        "        # count traces before adding new traces\n",
        "        n_traces_before_adding_new = len(fig.data)\n",
        "        \n",
        "        # add new traces\n",
        "        fig.add_traces(slider_dict[step_value])\n",
        "\n",
        "        step = dict(\n",
        "            # update figure when this step is active\n",
        "            method=\"update\",\n",
        "            # make all traces invisible\n",
        "            args=[{\"visible\": [False] * total_n_traces}],\n",
        "            # label on the slider\n",
        "            label=str(round(step_value, 3)),\n",
        "        )\n",
        "\n",
        "        # only toggle this step's traces visible, others remain invisible\n",
        "        n_traces_for_step_value = len(slider_dict[step_value])\n",
        "        for i in range(n_traces_before_adding_new, n_traces_before_adding_new + n_traces_for_step_value):\n",
        "            step[\"args\"][0][\"visible\"][i] = True\n",
        "        \n",
        "        # store step object in list of many steps\n",
        "        steps.append(step)\n",
        "\n",
        "    # create slider with list of step objects\n",
        "    slider = [dict(\n",
        "        active=0,\n",
        "        steps=steps\n",
        "    )]\n",
        "\n",
        "    # add slider to figure and create layout\n",
        "    fig.update_layout(\n",
        "        sliders=slider,\n",
        "        showlegend=False,\n",
        "        hovermode='closest',\n",
        "        margin=dict(b=20, l=5, r=5, t=40),\n",
        "        xaxis=dict(range=xaxisrange, showgrid=False, zeroline=False, showticklabels=False),\n",
        "        yaxis=dict(range=yaxisrange, showgrid=False, zeroline=False, showticklabels=False),\n",
        "        width=700, height=700,\n",
        "    )\n",
        "\n",
        "    return fig"
      ]
    },
    {
      "cell_type": "code",
      "execution_count": 47,
      "metadata": {
        "colab": {
          "base_uri": "https://localhost:8080/"
        },
        "id": "6GdXjpRhXrMH",
        "outputId": "dbb30415-197b-4ee0-d02d-2990b4c5f57a"
      },
      "outputs": [
        {
          "ename": "ValueError",
          "evalue": "Mime type rendering requires nbformat>=4.2.0 but it is not installed",
          "output_type": "error",
          "traceback": [
            "\u001b[1;31m---------------------------------------------------------------------------\u001b[0m",
            "\u001b[1;31mValueError\u001b[0m                                Traceback (most recent call last)",
            "\u001b[1;32md:\\Files\\Semester_6\\Data_Science\\Writing\\writing-assignment-mahika_nipun_shrreya\\_notebooks\\Copy_of_DS_Writing_Studio.ipynb Cell 24'\u001b[0m in \u001b[0;36m<cell line: 12>\u001b[1;34m()\u001b[0m\n\u001b[0;32m      <a href='vscode-notebook-cell:/d%3A/Files/Semester_6/Data_Science/Writing/writing-assignment-mahika_nipun_shrreya/_notebooks/Copy_of_DS_Writing_Studio.ipynb#ch0000020?line=4'>5</a>\u001b[0m fig \u001b[39m=\u001b[39m get_interactive_slider_similarity_graph(\n\u001b[0;32m      <a href='vscode-notebook-cell:/d%3A/Files/Semester_6/Data_Science/Writing/writing-assignment-mahika_nipun_shrreya/_notebooks/Copy_of_DS_Writing_Studio.ipynb#ch0000020?line=5'>6</a>\u001b[0m     similarity_matrix,\n\u001b[0;32m      <a href='vscode-notebook-cell:/d%3A/Files/Semester_6/Data_Science/Writing/writing-assignment-mahika_nipun_shrreya/_notebooks/Copy_of_DS_Writing_Studio.ipynb#ch0000020?line=6'>7</a>\u001b[0m     slider_steps,\n\u001b[0;32m      <a href='vscode-notebook-cell:/d%3A/Files/Semester_6/Data_Science/Writing/writing-assignment-mahika_nipun_shrreya/_notebooks/Copy_of_DS_Writing_Studio.ipynb#ch0000020?line=7'>8</a>\u001b[0m     node_text \u001b[39m=\u001b[39m data[:\u001b[39m100\u001b[39m]\n\u001b[0;32m      <a href='vscode-notebook-cell:/d%3A/Files/Semester_6/Data_Science/Writing/writing-assignment-mahika_nipun_shrreya/_notebooks/Copy_of_DS_Writing_Studio.ipynb#ch0000020?line=8'>9</a>\u001b[0m )\n\u001b[0;32m     <a href='vscode-notebook-cell:/d%3A/Files/Semester_6/Data_Science/Writing/writing-assignment-mahika_nipun_shrreya/_notebooks/Copy_of_DS_Writing_Studio.ipynb#ch0000020?line=10'>11</a>\u001b[0m \u001b[39m# plot it\u001b[39;00m\n\u001b[1;32m---> <a href='vscode-notebook-cell:/d%3A/Files/Semester_6/Data_Science/Writing/writing-assignment-mahika_nipun_shrreya/_notebooks/Copy_of_DS_Writing_Studio.ipynb#ch0000020?line=11'>12</a>\u001b[0m fig\u001b[39m.\u001b[39;49mshow()\n",
            "File \u001b[1;32mD:\\Software\\Anaconda\\envs\\cs328_writing_new\\lib\\site-packages\\plotly\\basedatatypes.py:3398\u001b[0m, in \u001b[0;36mBaseFigure.show\u001b[1;34m(self, *args, **kwargs)\u001b[0m\n\u001b[0;32m   <a href='file:///d%3A/Software/Anaconda/envs/cs328_writing_new/lib/site-packages/plotly/basedatatypes.py?line=3364'>3365</a>\u001b[0m \u001b[39m\"\"\"\u001b[39;00m\n\u001b[0;32m   <a href='file:///d%3A/Software/Anaconda/envs/cs328_writing_new/lib/site-packages/plotly/basedatatypes.py?line=3365'>3366</a>\u001b[0m \u001b[39mShow a figure using either the default renderer(s) or the renderer(s)\u001b[39;00m\n\u001b[0;32m   <a href='file:///d%3A/Software/Anaconda/envs/cs328_writing_new/lib/site-packages/plotly/basedatatypes.py?line=3366'>3367</a>\u001b[0m \u001b[39mspecified by the renderer argument\u001b[39;00m\n\u001b[1;32m   (...)\u001b[0m\n\u001b[0;32m   <a href='file:///d%3A/Software/Anaconda/envs/cs328_writing_new/lib/site-packages/plotly/basedatatypes.py?line=3393'>3394</a>\u001b[0m \u001b[39mNone\u001b[39;00m\n\u001b[0;32m   <a href='file:///d%3A/Software/Anaconda/envs/cs328_writing_new/lib/site-packages/plotly/basedatatypes.py?line=3394'>3395</a>\u001b[0m \u001b[39m\"\"\"\u001b[39;00m\n\u001b[0;32m   <a href='file:///d%3A/Software/Anaconda/envs/cs328_writing_new/lib/site-packages/plotly/basedatatypes.py?line=3395'>3396</a>\u001b[0m \u001b[39mimport\u001b[39;00m \u001b[39mplotly\u001b[39;00m\u001b[39m.\u001b[39;00m\u001b[39mio\u001b[39;00m \u001b[39mas\u001b[39;00m \u001b[39mpio\u001b[39;00m\n\u001b[1;32m-> <a href='file:///d%3A/Software/Anaconda/envs/cs328_writing_new/lib/site-packages/plotly/basedatatypes.py?line=3397'>3398</a>\u001b[0m \u001b[39mreturn\u001b[39;00m pio\u001b[39m.\u001b[39mshow(\u001b[39mself\u001b[39m, \u001b[39m*\u001b[39margs, \u001b[39m*\u001b[39m\u001b[39m*\u001b[39mkwargs)\n",
            "File \u001b[1;32mD:\\Software\\Anaconda\\envs\\cs328_writing_new\\lib\\site-packages\\plotly\\io\\_renderers.py:397\u001b[0m, in \u001b[0;36mshow\u001b[1;34m(fig, renderer, validate, **kwargs)\u001b[0m\n\u001b[0;32m    <a href='file:///d%3A/Software/Anaconda/envs/cs328_writing_new/lib/site-packages/plotly/io/_renderers.py?line=391'>392</a>\u001b[0m         \u001b[39mraise\u001b[39;00m \u001b[39mValueError\u001b[39;00m(\n\u001b[0;32m    <a href='file:///d%3A/Software/Anaconda/envs/cs328_writing_new/lib/site-packages/plotly/io/_renderers.py?line=392'>393</a>\u001b[0m             \u001b[39m\"\u001b[39m\u001b[39mMime type rendering requires ipython but it is not installed\u001b[39m\u001b[39m\"\u001b[39m\n\u001b[0;32m    <a href='file:///d%3A/Software/Anaconda/envs/cs328_writing_new/lib/site-packages/plotly/io/_renderers.py?line=393'>394</a>\u001b[0m         )\n\u001b[0;32m    <a href='file:///d%3A/Software/Anaconda/envs/cs328_writing_new/lib/site-packages/plotly/io/_renderers.py?line=395'>396</a>\u001b[0m     \u001b[39mif\u001b[39;00m \u001b[39mnot\u001b[39;00m nbformat \u001b[39mor\u001b[39;00m LooseVersion(nbformat\u001b[39m.\u001b[39m__version__) \u001b[39m<\u001b[39m LooseVersion(\u001b[39m\"\u001b[39m\u001b[39m4.2.0\u001b[39m\u001b[39m\"\u001b[39m):\n\u001b[1;32m--> <a href='file:///d%3A/Software/Anaconda/envs/cs328_writing_new/lib/site-packages/plotly/io/_renderers.py?line=396'>397</a>\u001b[0m         \u001b[39mraise\u001b[39;00m \u001b[39mValueError\u001b[39;00m(\n\u001b[0;32m    <a href='file:///d%3A/Software/Anaconda/envs/cs328_writing_new/lib/site-packages/plotly/io/_renderers.py?line=397'>398</a>\u001b[0m             \u001b[39m\"\u001b[39m\u001b[39mMime type rendering requires nbformat>=4.2.0 but it is not installed\u001b[39m\u001b[39m\"\u001b[39m\n\u001b[0;32m    <a href='file:///d%3A/Software/Anaconda/envs/cs328_writing_new/lib/site-packages/plotly/io/_renderers.py?line=398'>399</a>\u001b[0m         )\n\u001b[0;32m    <a href='file:///d%3A/Software/Anaconda/envs/cs328_writing_new/lib/site-packages/plotly/io/_renderers.py?line=400'>401</a>\u001b[0m     ipython_display\u001b[39m.\u001b[39mdisplay(bundle, raw\u001b[39m=\u001b[39m\u001b[39mTrue\u001b[39;00m)\n\u001b[0;32m    <a href='file:///d%3A/Software/Anaconda/envs/cs328_writing_new/lib/site-packages/plotly/io/_renderers.py?line=402'>403</a>\u001b[0m \u001b[39m# external renderers\u001b[39;00m\n",
            "\u001b[1;31mValueError\u001b[0m: Mime type rendering requires nbformat>=4.2.0 but it is not installed"
          ]
        }
      ],
      "source": [
        "# define slider steps (i.e., threshold values)\n",
        "slider_steps = np.arange(0.4, 0.85, 0.05)\n",
        "    \n",
        "# get the slider figure\n",
        "fig = get_interactive_slider_similarity_graph(\n",
        "    similarity_matrix,\n",
        "    slider_steps,\n",
        "    node_text = data[:100]\n",
        ")\n",
        "\n",
        "# plot it\n",
        "fig.show()"
      ]
    },
    {
      "cell_type": "code",
      "execution_count": 45,
      "metadata": {},
      "outputs": [],
      "source": [
        "import pydot"
      ]
    },
    {
      "cell_type": "code",
      "execution_count": 46,
      "metadata": {},
      "outputs": [],
      "source": [
        "from sklearn.cluster import MiniBatchKMeans\n",
        "from sklearn.metrics import silhouette_samples, silhouette_score"
      ]
    },
    {
      "cell_type": "code",
      "execution_count": null,
      "metadata": {},
      "outputs": [],
      "source": [
        "def mbkmeans_clusters(\n",
        "\tX, \n",
        "    k, \n",
        "    mb, \n",
        "    print_silhouette_values, \n",
        "):\n",
        "    \"\"\"Generate clusters and print Silhouette metrics using MBKmeans\n",
        "\n",
        "    Args:\n",
        "        X: Matrix of features.\n",
        "        k: Number of clusters.\n",
        "        mb: Size of mini-batches.\n",
        "        print_silhouette_values: Print silhouette values per cluster.\n",
        "\n",
        "    Returns:\n",
        "        Trained clustering model and labels based on X.\n",
        "    \"\"\"\n",
        "    km = MiniBatchKMeans(n_clusters=k, batch_size=mb).fit(X)\n",
        "    print(f\"For n_clusters = {k}\")\n",
        "    print(f\"Silhouette coefficient: {silhouette_score(X, km.labels_):0.2f}\")\n",
        "    print(f\"Inertia:{km.inertia_}\")\n",
        "\n",
        "    if print_silhouette_values:\n",
        "        sample_silhouette_values = silhouette_samples(X, km.labels_)\n",
        "        print(f\"Silhouette values:\")\n",
        "        silhouette_values = []\n",
        "        for i in range(k):\n",
        "            cluster_silhouette_values = sample_silhouette_values[km.labels_ == i]\n",
        "            silhouette_values.append(\n",
        "                (\n",
        "                    i,\n",
        "                    cluster_silhouette_values.shape[0],\n",
        "                    cluster_silhouette_values.mean(),\n",
        "                    cluster_silhouette_values.min(),\n",
        "                    cluster_silhouette_values.max(),\n",
        "                )\n",
        "            )\n",
        "        silhouette_values = sorted(\n",
        "            silhouette_values, key=lambda tup: tup[2], reverse=True\n",
        "        )\n",
        "        for s in silhouette_values:\n",
        "            print(\n",
        "                f\"    Cluster {s[0]}: Size:{s[1]} | Avg:{s[2]:.2f} | Min:{s[3]:.2f} | Max: {s[4]:.2f}\"\n",
        "            )\n",
        "    return km, km.labels_"
      ]
    },
    {
      "cell_type": "code",
      "execution_count": null,
      "metadata": {
        "id": "NwbG6qfnXvHN"
      },
      "outputs": [],
      "source": [
        "clustering, cluster_labels = mbkmeans_clusters(\n",
        "\tX=data,\n",
        "    k=50,\n",
        "    mb=500,\n",
        "    print_silhouette_values=True,\n",
        ")\n",
        "df_clusters = pd.DataFrame({\n",
        "    \"text\": data,\n",
        "    \"tokens\": [\" \".join(text) for text in data],\n",
        "    \"cluster\": cluster_labels\n",
        "})"
      ]
    },
    {
      "cell_type": "code",
      "execution_count": null,
      "metadata": {},
      "outputs": [],
      "source": [
        "print(\"Most representative terms per cluster (based on centroids):\")\n",
        "for i in range(50):\n",
        "    tokens_per_cluster = \"\"\n",
        "    most_representative = model.wv.most_similar(positive=[clustering.cluster_centers_[i]], topn=5)\n",
        "    for t in most_representative:\n",
        "        tokens_per_cluster += f\"{t[0]} \"\n",
        "    print(f\"Cluster {i}: {tokens_per_cluster}\")"
      ]
    },
    {
      "cell_type": "code",
      "execution_count": null,
      "metadata": {},
      "outputs": [],
      "source": []
    }
  ],
  "metadata": {
    "colab": {
      "collapsed_sections": [],
      "name": "Copy of DS_Writing_Studio.ipynb",
      "provenance": []
    },
    "kernelspec": {
      "display_name": "Python 3",
      "name": "python3"
    },
    "language_info": {
      "codemirror_mode": {
        "name": "ipython",
        "version": 3
      },
      "file_extension": ".py",
      "mimetype": "text/x-python",
      "name": "python",
      "nbconvert_exporter": "python",
      "pygments_lexer": "ipython3",
      "version": "3.9.7"
    }
  },
  "nbformat": 4,
  "nbformat_minor": 0
}
