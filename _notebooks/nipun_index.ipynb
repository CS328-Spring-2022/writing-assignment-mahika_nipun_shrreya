{
 "cells": [
  {
   "cell_type": "markdown",
   "metadata": {},
   "source": [
    "<h1><center>Charting AI/ML Growth Across the World</center></h1>\n",
    "<h4><center>\n",
    "<a style=\"text-decoration:none\" href=\"https://author1.github.io/\">Mahika Jaguste</a>, IIT Gandhinagar, <a style=\"text-decoration:none\" href=\"mailto:<mahika.oj>@iitgn.ac.in\">mahika.oj@iitgn.ac.in</a>\n",
    "<br><br>\n",
    "<a style=\"text-decoration:none\" href=\"https://nipun0307.github.io/\">Nipun Mahajan</a>, IIT Gandhinagar, <a style=\"text-decoration:none\" href=\"mailto:<mahajan.n>@iitgn.ac.in\">mahajan.n@iitgn.ac.in</a>\n",
    "<br><br>\n",
    "<a style=\"text-decoration:none\" href=\"https://author2.github.io/\">Shrreya Singh</a>, IIT Gandhinagar, <a style=\"text-decoration:none\" href=\"mailto:<singh.shrreya>@iitgn.ac.in\">singh.shrreya@iitgn.ac.in</a>\n",
    "</center></h4>"
   ]
  },
  {
   "cell_type": "markdown",
   "metadata": {},
   "source": [
    "[![Repo](https://img.shields.io/badge/GitHub-<mahika_shrreya_nipun>-brightgreen)](https://github.com/orgs/CS328-Spring-2022/teams/mahika_nipun_shrreya)"
   ]
  },
  {
   "cell_type": "markdown",
   "metadata": {},
   "source": [
    "### Charting The Growth of Papers by Top 10 Institutes"
   ]
  },
  {
   "cell_type": "markdown",
   "metadata": {},
   "source": [
    "The growth of Machine Learning, Deep Learningb and related learning module techniques, including artificial intelligence can be estimated using the number of research papers being published in a particular arena. The hypothesis is supported by the proposition that the countries or institutes which are leading the evolution of these learning techniques, invest huge amount of capital in research, devbelopment and marketing of such tools that accelerate the growth of Machine learning in other parts of the world.\n",
    "\n",
    "'Non-satisfaction' is a trait of human being which in some cases motivates the later to thrive for a better way of living. With the incorporation of Machine Learning along with Artifical Intelligence in our daily lives and the burst in number of learning techniques or methods in recent years, it is important to factor out the institutions or organisations responsible for such trends.\n",
    "\n",
    "The number of research papers affiliated to an institute does not necessarily associate with the contribution to better algorithms in the world of machine-based learning. However, it indeed influences the pace of research and influence of such techniques. Analysis was done on the dataset provided by `GitHub` referenced: [here](https://github.com/martenlienen/icml-nips-iclr-dataset). \n",
    "\n",
    "The dataset contains all paper titles, authors and their affiliations from three major conferences **ICML**, **NeurIPS**, **ICLR** over the years:\n",
    "- ICML: 2017-2020\n",
    "- NeurIPS: 2006-2020\n",
    "- ICLR: 2018-2021 (except 2020)"
   ]
  },
  {
   "cell_type": "code",
   "execution_count": 3,
   "metadata": {},
   "outputs": [],
   "source": [
    "# importing libraries\n",
    "import pandas as pd\n",
    "import numpy as np\n",
    "import plotly.express as px"
   ]
  },
  {
   "cell_type": "code",
   "execution_count": 4,
   "metadata": {},
   "outputs": [
    {
     "data": {
      "text/html": [
       "<div>\n",
       "<style scoped>\n",
       "    .dataframe tbody tr th:only-of-type {\n",
       "        vertical-align: middle;\n",
       "    }\n",
       "\n",
       "    .dataframe tbody tr th {\n",
       "        vertical-align: top;\n",
       "    }\n",
       "\n",
       "    .dataframe thead th {\n",
       "        text-align: right;\n",
       "    }\n",
       "</style>\n",
       "<table border=\"1\" class=\"dataframe\">\n",
       "  <thead>\n",
       "    <tr style=\"text-align: right;\">\n",
       "      <th></th>\n",
       "      <th>Conference</th>\n",
       "      <th>Year</th>\n",
       "      <th>Title</th>\n",
       "      <th>Author</th>\n",
       "      <th>Affiliation</th>\n",
       "    </tr>\n",
       "  </thead>\n",
       "  <tbody>\n",
       "    <tr>\n",
       "      <th>0</th>\n",
       "      <td>NeurIPS</td>\n",
       "      <td>2006</td>\n",
       "      <td>Attentional Processing on a Spike-Based VLSI N...</td>\n",
       "      <td>Yingxue Wang</td>\n",
       "      <td>Swiss Federal Institute of Technology, Zurich</td>\n",
       "    </tr>\n",
       "    <tr>\n",
       "      <th>1</th>\n",
       "      <td>NeurIPS</td>\n",
       "      <td>2006</td>\n",
       "      <td>Attentional Processing on a Spike-Based VLSI N...</td>\n",
       "      <td>Rodney J Douglas</td>\n",
       "      <td>Institute of Neuroinformatics</td>\n",
       "    </tr>\n",
       "    <tr>\n",
       "      <th>2</th>\n",
       "      <td>NeurIPS</td>\n",
       "      <td>2006</td>\n",
       "      <td>Attentional Processing on a Spike-Based VLSI N...</td>\n",
       "      <td>Shih-Chii Liu</td>\n",
       "      <td>Institute for Neuroinformatics, University of ...</td>\n",
       "    </tr>\n",
       "    <tr>\n",
       "      <th>3</th>\n",
       "      <td>NeurIPS</td>\n",
       "      <td>2006</td>\n",
       "      <td>Multi-Task Feature Learning</td>\n",
       "      <td>Andreas Argyriou</td>\n",
       "      <td>Ecole Centrale de Paris</td>\n",
       "    </tr>\n",
       "    <tr>\n",
       "      <th>4</th>\n",
       "      <td>NeurIPS</td>\n",
       "      <td>2006</td>\n",
       "      <td>Multi-Task Feature Learning</td>\n",
       "      <td>Theos Evgeniou</td>\n",
       "      <td>INSEAD</td>\n",
       "    </tr>\n",
       "  </tbody>\n",
       "</table>\n",
       "</div>"
      ],
      "text/plain": [
       "  Conference  Year                                              Title  \\\n",
       "0    NeurIPS  2006  Attentional Processing on a Spike-Based VLSI N...   \n",
       "1    NeurIPS  2006  Attentional Processing on a Spike-Based VLSI N...   \n",
       "2    NeurIPS  2006  Attentional Processing on a Spike-Based VLSI N...   \n",
       "3    NeurIPS  2006                        Multi-Task Feature Learning   \n",
       "4    NeurIPS  2006                        Multi-Task Feature Learning   \n",
       "\n",
       "             Author                                        Affiliation  \n",
       "0      Yingxue Wang      Swiss Federal Institute of Technology, Zurich  \n",
       "1  Rodney J Douglas                      Institute of Neuroinformatics  \n",
       "2     Shih-Chii Liu  Institute for Neuroinformatics, University of ...  \n",
       "3  Andreas Argyriou                            Ecole Centrale de Paris  \n",
       "4    Theos Evgeniou                                             INSEAD  "
      ]
     },
     "execution_count": 4,
     "metadata": {},
     "output_type": "execute_result"
    }
   ],
   "source": [
    "papers_df = pd.read_csv('data/new_papers.csv')\n",
    "papers_df.head()"
   ]
  },
  {
   "cell_type": "markdown",
   "metadata": {},
   "source": [
    "#### Visualising the Data Points"
   ]
  },
  {
   "cell_type": "code",
   "execution_count": 5,
   "metadata": {},
   "outputs": [
    {
     "data": {
      "application/vnd.plotly.v1+json": {
       "config": {
        "plotlyServerURL": "https://plot.ly"
       },
       "data": [
        {
         "hovertemplate": "Affiliation=University of Central Florida<br>Year=%{x}<br>Conference=%{y}<br>Author=%{z}<extra></extra>",
         "legendgroup": "University of Central Florida",
         "marker": {
          "color": "#636efa",
          "symbol": "circle"
         },
         "mode": "markers",
         "name": "University of Central Florida",
         "scene": "scene",
         "showlegend": true,
         "type": "scatter3d",
         "x": [
          2021
         ],
         "y": [
          "ICLR"
         ],
         "z": [
          "Ladislau Boloni"
         ]
        },
        {
         "hovertemplate": "Affiliation=IBM Research<br>Year=%{x}<br>Conference=%{y}<br>Author=%{z}<extra></extra>",
         "legendgroup": "IBM Research",
         "marker": {
          "color": "#EF553B",
          "symbol": "circle"
         },
         "mode": "markers",
         "name": "IBM Research",
         "scene": "scene",
         "showlegend": true,
         "type": "scatter3d",
         "x": [
          2020,
          2020
         ],
         "y": [
          "NeurIPS",
          "NeurIPS"
         ],
         "z": [
          "Jannis Born",
          "Kailash Gopalakrishnan"
         ]
        },
        {
         "hovertemplate": "Affiliation=University of Toronto<br>Year=%{x}<br>Conference=%{y}<br>Author=%{z}<extra></extra>",
         "legendgroup": "University of Toronto",
         "marker": {
          "color": "#00cc96",
          "symbol": "circle"
         },
         "mode": "markers",
         "name": "University of Toronto",
         "scene": "scene",
         "showlegend": true,
         "type": "scatter3d",
         "x": [
          2018
         ],
         "y": [
          "NeurIPS"
         ],
         "z": [
          "Ethan Fetaya"
         ]
        },
        {
         "hovertemplate": "Affiliation=University of California at Davis<br>Year=%{x}<br>Conference=%{y}<br>Author=%{z}<extra></extra>",
         "legendgroup": "University of California at Davis",
         "marker": {
          "color": "#ab63fa",
          "symbol": "circle"
         },
         "mode": "markers",
         "name": "University of California at Davis",
         "scene": "scene",
         "showlegend": true,
         "type": "scatter3d",
         "x": [
          2016
         ],
         "y": [
          "NeurIPS"
         ],
         "z": [
          "Huasen Wu"
         ]
        },
        {
         "hovertemplate": "Affiliation=DeepMind<br>Year=%{x}<br>Conference=%{y}<br>Author=%{z}<extra></extra>",
         "legendgroup": "DeepMind",
         "marker": {
          "color": "#FFA15A",
          "symbol": "circle"
         },
         "mode": "markers",
         "name": "DeepMind",
         "scene": "scene",
         "showlegend": true,
         "type": "scatter3d",
         "x": [
          2017,
          2017,
          2020
         ],
         "y": [
          "NeurIPS",
          "NeurIPS",
          "ICML"
         ],
         "z": [
          "Pushmeet Kohli",
          "Nando de Freitas",
          "Nicolas Heess"
         ]
        },
        {
         "hovertemplate": "Affiliation=Indiana University Bloomington<br>Year=%{x}<br>Conference=%{y}<br>Author=%{z}<extra></extra>",
         "legendgroup": "Indiana University Bloomington",
         "marker": {
          "color": "#19d3f3",
          "symbol": "circle"
         },
         "mode": "markers",
         "name": "Indiana University Bloomington",
         "scene": "scene",
         "showlegend": true,
         "type": "scatter3d",
         "x": [
          2018,
          2020
         ],
         "y": [
          "NeurIPS",
          "NeurIPS"
         ],
         "z": [
          "Yuan Zhou",
          "Lei Jiang"
         ]
        },
        {
         "hovertemplate": "Affiliation=Peking University<br>Year=%{x}<br>Conference=%{y}<br>Author=%{z}<extra></extra>",
         "legendgroup": "Peking University",
         "marker": {
          "color": "#FF6692",
          "symbol": "circle"
         },
         "mode": "markers",
         "name": "Peking University",
         "scene": "scene",
         "showlegend": true,
         "type": "scatter3d",
         "x": [
          2020,
          2019
         ],
         "y": [
          "ICML",
          "NeurIPS"
         ],
         "z": [
          "Zhouchen Lin",
          "Liwei Wang"
         ]
        },
        {
         "hovertemplate": "Affiliation=Carnegie-Mellon University<br>Year=%{x}<br>Conference=%{y}<br>Author=%{z}<extra></extra>",
         "legendgroup": "Carnegie-Mellon University",
         "marker": {
          "color": "#B6E880",
          "symbol": "circle"
         },
         "mode": "markers",
         "name": "Carnegie-Mellon University",
         "scene": "scene",
         "showlegend": true,
         "type": "scatter3d",
         "x": [
          2019
         ],
         "y": [
          "ICLR"
         ],
         "z": [
          "Gustavo Rohde"
         ]
        },
        {
         "hovertemplate": "Affiliation=IST Austria<br>Year=%{x}<br>Conference=%{y}<br>Author=%{z}<extra></extra>",
         "legendgroup": "IST Austria",
         "marker": {
          "color": "#FF97FF",
          "symbol": "circle"
         },
         "mode": "markers",
         "name": "IST Austria",
         "scene": "scene",
         "showlegend": true,
         "type": "scatter3d",
         "x": [
          2016
         ],
         "y": [
          "NeurIPS"
         ],
         "z": [
          "Cristina Savin"
         ]
        },
        {
         "hovertemplate": "Affiliation=Harvard University<br>Year=%{x}<br>Conference=%{y}<br>Author=%{z}<extra></extra>",
         "legendgroup": "Harvard University",
         "marker": {
          "color": "#FECB52",
          "symbol": "circle"
         },
         "mode": "markers",
         "name": "Harvard University",
         "scene": "scene",
         "showlegend": true,
         "type": "scatter3d",
         "x": [
          2018,
          2019,
          2020,
          2011
         ],
         "y": [
          "ICML",
          "NeurIPS",
          "NeurIPS",
          "NeurIPS"
         ],
         "z": [
          "Hossein Esfandiari",
          "Rebekka Burkholz",
          "Aaron Sonabend",
          "Todd Zickler"
         ]
        },
        {
         "hovertemplate": "Affiliation=University of Queensland<br>Year=%{x}<br>Conference=%{y}<br>Author=%{z}<extra></extra>",
         "legendgroup": "University of Queensland",
         "marker": {
          "color": "#636efa",
          "symbol": "circle"
         },
         "mode": "markers",
         "name": "University of Queensland",
         "scene": "scene",
         "showlegend": true,
         "type": "scatter3d",
         "x": [
          2019
         ],
         "y": [
          "NeurIPS"
         ],
         "z": [
          "Fred Roosta"
         ]
        },
        {
         "hovertemplate": "Affiliation=Facebook AI Research<br>Year=%{x}<br>Conference=%{y}<br>Author=%{z}<extra></extra>",
         "legendgroup": "Facebook AI Research",
         "marker": {
          "color": "#EF553B",
          "symbol": "circle"
         },
         "mode": "markers",
         "name": "Facebook AI Research",
         "scene": "scene",
         "showlegend": true,
         "type": "scatter3d",
         "x": [
          2020
         ],
         "y": [
          "ICML"
         ],
         "z": [
          "Alessandro Lazaric"
         ]
        },
        {
         "hovertemplate": "Affiliation=Max Planck Institute for Biological Cybernetics<br>Year=%{x}<br>Conference=%{y}<br>Author=%{z}<extra></extra>",
         "legendgroup": "Max Planck Institute for Biological Cybernetics",
         "marker": {
          "color": "#00cc96",
          "symbol": "circle"
         },
         "mode": "markers",
         "name": "Max Planck Institute for Biological Cybernetics",
         "scene": "scene",
         "showlegend": true,
         "type": "scatter3d",
         "x": [
          2006
         ],
         "y": [
          "NeurIPS"
         ],
         "z": [
          "Markus M Maier"
         ]
        },
        {
         "hovertemplate": "Affiliation=Southern University of Science and Technology<br>Year=%{x}<br>Conference=%{y}<br>Author=%{z}<extra></extra>",
         "legendgroup": "Southern University of Science and Technology",
         "marker": {
          "color": "#ab63fa",
          "symbol": "circle"
         },
         "mode": "markers",
         "name": "Southern University of Science and Technology",
         "scene": "scene",
         "showlegend": true,
         "type": "scatter3d",
         "x": [
          2019
         ],
         "y": [
          "NeurIPS"
         ],
         "z": [
          "Ke Tang"
         ]
        },
        {
         "hovertemplate": "Affiliation=Tel Aviv University<br>Year=%{x}<br>Conference=%{y}<br>Author=%{z}<extra></extra>",
         "legendgroup": "Tel Aviv University",
         "marker": {
          "color": "#FFA15A",
          "symbol": "circle"
         },
         "mode": "markers",
         "name": "Tel Aviv University",
         "scene": "scene",
         "showlegend": true,
         "type": "scatter3d",
         "x": [
          2013,
          2020
         ],
         "y": [
          "NeurIPS",
          "NeurIPS"
         ],
         "z": [
          "Noga Alon",
          "Roi Livni"
         ]
        },
        {
         "hovertemplate": "Affiliation=Yandex<br>Year=%{x}<br>Conference=%{y}<br>Author=%{z}<extra></extra>",
         "legendgroup": "Yandex",
         "marker": {
          "color": "#19d3f3",
          "symbol": "circle"
         },
         "mode": "markers",
         "name": "Yandex",
         "scene": "scene",
         "showlegend": true,
         "type": "scatter3d",
         "x": [
          2009
         ],
         "y": [
          "NeurIPS"
         ],
         "z": [
          "Dmitry Pavlov"
         ]
        },
        {
         "hovertemplate": "Affiliation=HEGP<br>Year=%{x}<br>Conference=%{y}<br>Author=%{z}<extra></extra>",
         "legendgroup": "HEGP",
         "marker": {
          "color": "#FF6692",
          "symbol": "circle"
         },
         "mode": "markers",
         "name": "HEGP",
         "scene": "scene",
         "showlegend": true,
         "type": "scatter3d",
         "x": [
          2017
         ],
         "y": [
          "NeurIPS"
         ],
         "z": [
          "Stephane Oudard"
         ]
        },
        {
         "hovertemplate": "Affiliation=Google<br>Year=%{x}<br>Conference=%{y}<br>Author=%{z}<extra></extra>",
         "legendgroup": "Google",
         "marker": {
          "color": "#B6E880",
          "symbol": "circle"
         },
         "mode": "markers",
         "name": "Google",
         "scene": "scene",
         "showlegend": true,
         "type": "scatter3d",
         "x": [
          2006,
          2019,
          2016,
          2021,
          2018
         ],
         "y": [
          "NeurIPS",
          "NeurIPS",
          "NeurIPS",
          "ICLR",
          "NeurIPS"
         ],
         "z": [
          "Pascal Lamblin",
          "Chris Harris",
          "Satyen Kale",
          "Rewon Child",
          "Sriram Srinivasan"
         ]
        },
        {
         "hovertemplate": "Affiliation=Google Brain<br>Year=%{x}<br>Conference=%{y}<br>Author=%{z}<extra></extra>",
         "legendgroup": "Google Brain",
         "marker": {
          "color": "#FF97FF",
          "symbol": "circle"
         },
         "mode": "markers",
         "name": "Google Brain",
         "scene": "scene",
         "showlegend": true,
         "type": "scatter3d",
         "x": [
          2020
         ],
         "y": [
          "ICML"
         ],
         "z": [
          "Forest Yang"
         ]
        },
        {
         "hovertemplate": "Affiliation=Singapore University of Technology and Design<br>Year=%{x}<br>Conference=%{y}<br>Author=%{z}<extra></extra>",
         "legendgroup": "Singapore University of Technology and Design",
         "marker": {
          "color": "#FECB52",
          "symbol": "circle"
         },
         "mode": "markers",
         "name": "Singapore University of Technology and Design",
         "scene": "scene",
         "showlegend": true,
         "type": "scatter3d",
         "x": [
          2019
         ],
         "y": [
          "NeurIPS"
         ],
         "z": [
          "Ngoc-Trung Tran"
         ]
        },
        {
         "hovertemplate": "Affiliation=Purdue University<br>Year=%{x}<br>Conference=%{y}<br>Author=%{z}<extra></extra>",
         "legendgroup": "Purdue University",
         "marker": {
          "color": "#636efa",
          "symbol": "circle"
         },
         "mode": "markers",
         "name": "Purdue University",
         "scene": "scene",
         "showlegend": true,
         "type": "scatter3d",
         "x": [
          2020,
          2018,
          2019
         ],
         "y": [
          "NeurIPS",
          "NeurIPS",
          "ICML"
         ],
         "z": [
          "Peizhong Ju",
          "Xilun Wu",
          "Jean Honorio"
         ]
        },
        {
         "hovertemplate": "Affiliation=Harbin Institute of Technology Shenzhen Graduate School(HITSZ)<br>Year=%{x}<br>Conference=%{y}<br>Author=%{z}<extra></extra>",
         "legendgroup": "Harbin Institute of Technology Shenzhen Graduate School(HITSZ)",
         "marker": {
          "color": "#EF553B",
          "symbol": "circle"
         },
         "mode": "markers",
         "name": "Harbin Institute of Technology Shenzhen Graduate School(HITSZ)",
         "scene": "scene",
         "showlegend": true,
         "type": "scatter3d",
         "x": [
          2014
         ],
         "y": [
          "NeurIPS"
         ],
         "z": [
          "Baotian Hu"
         ]
        },
        {
         "hovertemplate": "Affiliation=University of California, Los Angeles<br>Year=%{x}<br>Conference=%{y}<br>Author=%{z}<extra></extra>",
         "legendgroup": "University of California, Los Angeles",
         "marker": {
          "color": "#00cc96",
          "symbol": "circle"
         },
         "mode": "markers",
         "name": "University of California, Los Angeles",
         "scene": "scene",
         "showlegend": true,
         "type": "scatter3d",
         "x": [
          2020
         ],
         "y": [
          "ICML"
         ],
         "z": [
          "Guy Van den Broeck"
         ]
        },
        {
         "hovertemplate": "Affiliation=University of Chicago<br>Year=%{x}<br>Conference=%{y}<br>Author=%{z}<extra></extra>",
         "legendgroup": "University of Chicago",
         "marker": {
          "color": "#ab63fa",
          "symbol": "circle"
         },
         "mode": "markers",
         "name": "University of Chicago",
         "scene": "scene",
         "showlegend": true,
         "type": "scatter3d",
         "x": [
          2019,
          2019
         ],
         "y": [
          "NeurIPS",
          "ICML"
         ],
         "z": [
          "Bryon Aragam",
          "Aaron Elmore"
         ]
        },
        {
         "hovertemplate": "Affiliation=UC San Diego<br>Year=%{x}<br>Conference=%{y}<br>Author=%{z}<extra></extra>",
         "legendgroup": "UC San Diego",
         "marker": {
          "color": "#FFA15A",
          "symbol": "circle"
         },
         "mode": "markers",
         "name": "UC San Diego",
         "scene": "scene",
         "showlegend": true,
         "type": "scatter3d",
         "x": [
          2020
         ],
         "y": [
          "NeurIPS"
         ],
         "z": [
          "Vaishakh R Ravindrakumar"
         ]
        },
        {
         "hovertemplate": "Affiliation=ETHZ<br>Year=%{x}<br>Conference=%{y}<br>Author=%{z}<extra></extra>",
         "legendgroup": "ETHZ",
         "marker": {
          "color": "#19d3f3",
          "symbol": "circle"
         },
         "mode": "markers",
         "name": "ETHZ",
         "scene": "scene",
         "showlegend": true,
         "type": "scatter3d",
         "x": [
          2019
         ],
         "y": [
          "ICML"
         ],
         "z": [
          "Gary Becigneul"
         ]
        },
        {
         "hovertemplate": "Affiliation=Tencent AI Lab<br>Year=%{x}<br>Conference=%{y}<br>Author=%{z}<extra></extra>",
         "legendgroup": "Tencent AI Lab",
         "marker": {
          "color": "#FF6692",
          "symbol": "circle"
         },
         "mode": "markers",
         "name": "Tencent AI Lab",
         "scene": "scene",
         "showlegend": true,
         "type": "scatter3d",
         "x": [
          2018
         ],
         "y": [
          "ICML"
         ],
         "z": [
          "Wenhan Luo"
         ]
        },
        {
         "hovertemplate": "Affiliation=Facebook AI Research / Georgia Tech<br>Year=%{x}<br>Conference=%{y}<br>Author=%{z}<extra></extra>",
         "legendgroup": "Facebook AI Research / Georgia Tech",
         "marker": {
          "color": "#B6E880",
          "symbol": "circle"
         },
         "mode": "markers",
         "name": "Facebook AI Research / Georgia Tech",
         "scene": "scene",
         "showlegend": true,
         "type": "scatter3d",
         "x": [
          2021
         ],
         "y": [
          "ICLR"
         ],
         "z": [
          "Devi Parikh"
         ]
        },
        {
         "hovertemplate": "Affiliation=Princeton University<br>Year=%{x}<br>Conference=%{y}<br>Author=%{z}<extra></extra>",
         "legendgroup": "Princeton University",
         "marker": {
          "color": "#FF97FF",
          "symbol": "circle"
         },
         "mode": "markers",
         "name": "Princeton University",
         "scene": "scene",
         "showlegend": true,
         "type": "scatter3d",
         "x": [
          2016,
          2016
         ],
         "y": [
          "NeurIPS",
          "NeurIPS"
         ],
         "z": [
          "Elad Hazan",
          "Zhaoran Wang"
         ]
        },
        {
         "hovertemplate": "Affiliation=Seoul National University<br>Year=%{x}<br>Conference=%{y}<br>Author=%{z}<extra></extra>",
         "legendgroup": "Seoul National University",
         "marker": {
          "color": "#FECB52",
          "symbol": "circle"
         },
         "mode": "markers",
         "name": "Seoul National University",
         "scene": "scene",
         "showlegend": true,
         "type": "scatter3d",
         "x": [
          2018,
          2014
         ],
         "y": [
          "ICLR",
          "NeurIPS"
         ],
         "z": [
          "Sewon Min",
          "Bohyung Han"
         ]
        },
        {
         "hovertemplate": "Affiliation=Max Planck Institute<br>Year=%{x}<br>Conference=%{y}<br>Author=%{z}<extra></extra>",
         "legendgroup": "Max Planck Institute",
         "marker": {
          "color": "#636efa",
          "symbol": "circle"
         },
         "mode": "markers",
         "name": "Max Planck Institute",
         "scene": "scene",
         "showlegend": true,
         "type": "scatter3d",
         "x": [
          2008
         ],
         "y": [
          "NeurIPS"
         ],
         "z": [
          "Christian Walder"
         ]
        },
        {
         "hovertemplate": "Affiliation=Gatsby Unit, UCL<br>Year=%{x}<br>Conference=%{y}<br>Author=%{z}<extra></extra>",
         "legendgroup": "Gatsby Unit, UCL",
         "marker": {
          "color": "#EF553B",
          "symbol": "circle"
         },
         "mode": "markers",
         "name": "Gatsby Unit, UCL",
         "scene": "scene",
         "showlegend": true,
         "type": "scatter3d",
         "x": [
          2019
         ],
         "y": [
          "NeurIPS"
         ],
         "z": [
          "Arthur Gretton"
         ]
        },
        {
         "hovertemplate": "Affiliation=Nanyang Technological University, Singapore<br>Year=%{x}<br>Conference=%{y}<br>Author=%{z}<extra></extra>",
         "legendgroup": "Nanyang Technological University, Singapore",
         "marker": {
          "color": "#00cc96",
          "symbol": "circle"
         },
         "mode": "markers",
         "name": "Nanyang Technological University, Singapore",
         "scene": "scene",
         "showlegend": true,
         "type": "scatter3d",
         "x": [
          2019
         ],
         "y": [
          "ICLR"
         ],
         "z": [
          "Kim-Hui Yap"
         ]
        },
        {
         "hovertemplate": "Affiliation=University of California, Berkeley<br>Year=%{x}<br>Conference=%{y}<br>Author=%{z}<extra></extra>",
         "legendgroup": "University of California, Berkeley",
         "marker": {
          "color": "#ab63fa",
          "symbol": "circle"
         },
         "mode": "markers",
         "name": "University of California, Berkeley",
         "scene": "scene",
         "showlegend": true,
         "type": "scatter3d",
         "x": [
          2018
         ],
         "y": [
          "NeurIPS"
         ],
         "z": [
          "Ronghang Hu"
         ]
        },
        {
         "hovertemplate": "Affiliation=UMass Amherst<br>Year=%{x}<br>Conference=%{y}<br>Author=%{z}<extra></extra>",
         "legendgroup": "UMass Amherst",
         "marker": {
          "color": "#FFA15A",
          "symbol": "circle"
         },
         "mode": "markers",
         "name": "UMass Amherst",
         "scene": "scene",
         "showlegend": true,
         "type": "scatter3d",
         "x": [
          2020
         ],
         "y": [
          "NeurIPS"
         ],
         "z": [
          "Abhinav Agrawal"
         ]
        },
        {
         "hovertemplate": "Affiliation=Georgia Institute of Technology<br>Year=%{x}<br>Conference=%{y}<br>Author=%{z}<extra></extra>",
         "legendgroup": "Georgia Institute of Technology",
         "marker": {
          "color": "#19d3f3",
          "symbol": "circle"
         },
         "mode": "markers",
         "name": "Georgia Institute of Technology",
         "scene": "scene",
         "showlegend": true,
         "type": "scatter3d",
         "x": [
          2019,
          2020
         ],
         "y": [
          "NeurIPS",
          "NeurIPS"
         ],
         "z": [
          "Jacob Abernethy",
          "Yao Xie"
         ]
        },
        {
         "hovertemplate": "Affiliation=Guangdong University of Technology<br>Year=%{x}<br>Conference=%{y}<br>Author=%{z}<extra></extra>",
         "legendgroup": "Guangdong University of Technology",
         "marker": {
          "color": "#FF6692",
          "symbol": "circle"
         },
         "mode": "markers",
         "name": "Guangdong University of Technology",
         "scene": "scene",
         "showlegend": true,
         "type": "scatter3d",
         "x": [
          2018
         ],
         "y": [
          "NeurIPS"
         ],
         "z": [
          "Ruichu Cai"
         ]
        },
        {
         "hovertemplate": "Affiliation=TAMU<br>Year=%{x}<br>Conference=%{y}<br>Author=%{z}<extra></extra>",
         "legendgroup": "TAMU",
         "marker": {
          "color": "#B6E880",
          "symbol": "circle"
         },
         "mode": "markers",
         "name": "TAMU",
         "scene": "scene",
         "showlegend": true,
         "type": "scatter3d",
         "x": [
          2018
         ],
         "y": [
          "NeurIPS"
         ],
         "z": [
          "Zhangyang Wang"
         ]
        },
        {
         "hovertemplate": "Affiliation=QUT - ACEMS<br>Year=%{x}<br>Conference=%{y}<br>Author=%{z}<extra></extra>",
         "legendgroup": "QUT - ACEMS",
         "marker": {
          "color": "#FF97FF",
          "symbol": "circle"
         },
         "mode": "markers",
         "name": "QUT - ACEMS",
         "scene": "scene",
         "showlegend": true,
         "type": "scatter3d",
         "x": [
          2017
         ],
         "y": [
          "NeurIPS"
         ],
         "z": [
          "Victor Gabillon"
         ]
        },
        {
         "hovertemplate": "Affiliation=Salesforce<br>Year=%{x}<br>Conference=%{y}<br>Author=%{z}<extra></extra>",
         "legendgroup": "Salesforce",
         "marker": {
          "color": "#FECB52",
          "symbol": "circle"
         },
         "mode": "markers",
         "name": "Salesforce",
         "scene": "scene",
         "showlegend": true,
         "type": "scatter3d",
         "x": [
          2020
         ],
         "y": [
          "NeurIPS"
         ],
         "z": [
          "Caiming Xiong"
         ]
        },
        {
         "hovertemplate": "Affiliation=Data61<br>Year=%{x}<br>Conference=%{y}<br>Author=%{z}<extra></extra>",
         "legendgroup": "Data61",
         "marker": {
          "color": "#636efa",
          "symbol": "circle"
         },
         "mode": "markers",
         "name": "Data61",
         "scene": "scene",
         "showlegend": true,
         "type": "scatter3d",
         "x": [
          2016
         ],
         "y": [
          "NeurIPS"
         ],
         "z": [
          "Fang Chen"
         ]
        },
        {
         "hovertemplate": "Affiliation=EPFL<br>Year=%{x}<br>Conference=%{y}<br>Author=%{z}<extra></extra>",
         "legendgroup": "EPFL",
         "marker": {
          "color": "#EF553B",
          "symbol": "circle"
         },
         "mode": "markers",
         "name": "EPFL",
         "scene": "scene",
         "showlegend": true,
         "type": "scatter3d",
         "x": [
          2018,
          2009
         ],
         "y": [
          "ICML",
          "NeurIPS"
         ],
         "z": [
          "Rhicheek Patra",
          "Wulfram Gerstner"
         ]
        },
        {
         "hovertemplate": "Affiliation=UC Berkeley<br>Year=%{x}<br>Conference=%{y}<br>Author=%{z}<extra></extra>",
         "legendgroup": "UC Berkeley",
         "marker": {
          "color": "#00cc96",
          "symbol": "circle"
         },
         "mode": "markers",
         "name": "UC Berkeley",
         "scene": "scene",
         "showlegend": true,
         "type": "scatter3d",
         "x": [
          2019
         ],
         "y": [
          "NeurIPS"
         ],
         "z": [
          "Richard Zhang"
         ]
        },
        {
         "hovertemplate": "Affiliation=University of Glasgow<br>Year=%{x}<br>Conference=%{y}<br>Author=%{z}<extra></extra>",
         "legendgroup": "University of Glasgow",
         "marker": {
          "color": "#ab63fa",
          "symbol": "circle"
         },
         "mode": "markers",
         "name": "University of Glasgow",
         "scene": "scene",
         "showlegend": true,
         "type": "scatter3d",
         "x": [
          2017
         ],
         "y": [
          "NeurIPS"
         ],
         "z": [
          "Christoph Kayser"
         ]
        },
        {
         "hovertemplate": "Affiliation=IBM<br>Year=%{x}<br>Conference=%{y}<br>Author=%{z}<extra></extra>",
         "legendgroup": "IBM",
         "marker": {
          "color": "#FFA15A",
          "symbol": "circle"
         },
         "mode": "markers",
         "name": "IBM",
         "scene": "scene",
         "showlegend": true,
         "type": "scatter3d",
         "x": [
          2020
         ],
         "y": [
          "NeurIPS"
         ],
         "z": [
          "Pavankumar Murali"
         ]
        },
        {
         "hovertemplate": "Affiliation=University of Southern California<br>Year=%{x}<br>Conference=%{y}<br>Author=%{z}<extra></extra>",
         "legendgroup": "University of Southern California",
         "marker": {
          "color": "#19d3f3",
          "symbol": "circle"
         },
         "mode": "markers",
         "name": "University of Southern California",
         "scene": "scene",
         "showlegend": true,
         "type": "scatter3d",
         "x": [
          2011
         ],
         "y": [
          "NeurIPS"
         ],
         "z": [
          "Yan Liu"
         ]
        },
        {
         "hovertemplate": "Affiliation=Stanford University<br>Year=%{x}<br>Conference=%{y}<br>Author=%{z}<extra></extra>",
         "legendgroup": "Stanford University",
         "marker": {
          "color": "#FF6692",
          "symbol": "circle"
         },
         "mode": "markers",
         "name": "Stanford University",
         "scene": "scene",
         "showlegend": true,
         "type": "scatter3d",
         "x": [
          2019,
          2019,
          2021
         ],
         "y": [
          "ICML",
          "NeurIPS",
          "ICLR"
         ],
         "z": [
          "Peter Bailis",
          "Zijun Gao",
          "Chelsea Finn"
         ]
        },
        {
         "hovertemplate": "Affiliation=Baidu Research<br>Year=%{x}<br>Conference=%{y}<br>Author=%{z}<extra></extra>",
         "legendgroup": "Baidu Research",
         "marker": {
          "color": "#B6E880",
          "symbol": "circle"
         },
         "mode": "markers",
         "name": "Baidu Research",
         "scene": "scene",
         "showlegend": true,
         "type": "scatter3d",
         "x": [
          2011
         ],
         "y": [
          "NeurIPS"
         ],
         "z": [
          "Adam Coates"
         ]
        },
        {
         "hovertemplate": "Affiliation=University of Connecticut<br>Year=%{x}<br>Conference=%{y}<br>Author=%{z}<extra></extra>",
         "legendgroup": "University of Connecticut",
         "marker": {
          "color": "#FF97FF",
          "symbol": "circle"
         },
         "mode": "markers",
         "name": "University of Connecticut",
         "scene": "scene",
         "showlegend": true,
         "type": "scatter3d",
         "x": [
          2014
         ],
         "y": [
          "NeurIPS"
         ],
         "z": [
          "Jinbo Bi"
         ]
        },
        {
         "hovertemplate": "Affiliation=Carnegie Mellon University<br>Year=%{x}<br>Conference=%{y}<br>Author=%{z}<extra></extra>",
         "legendgroup": "Carnegie Mellon University",
         "marker": {
          "color": "#FECB52",
          "symbol": "circle"
         },
         "mode": "markers",
         "name": "Carnegie Mellon University",
         "scene": "scene",
         "showlegend": true,
         "type": "scatter3d",
         "x": [
          2014
         ],
         "y": [
          "NeurIPS"
         ],
         "z": [
          "Pradeep Ravikumar"
         ]
        },
        {
         "hovertemplate": "Affiliation=Nanjing University<br>Year=%{x}<br>Conference=%{y}<br>Author=%{z}<extra></extra>",
         "legendgroup": "Nanjing University",
         "marker": {
          "color": "#636efa",
          "symbol": "circle"
         },
         "mode": "markers",
         "name": "Nanjing University",
         "scene": "scene",
         "showlegend": true,
         "type": "scatter3d",
         "x": [
          2020
         ],
         "y": [
          "ICML"
         ],
         "z": [
          "Zhi-Hua Zhou"
         ]
        },
        {
         "hovertemplate": "Affiliation=Tel Aviv University and Google<br>Year=%{x}<br>Conference=%{y}<br>Author=%{z}<extra></extra>",
         "legendgroup": "Tel Aviv University and Google",
         "marker": {
          "color": "#EF553B",
          "symbol": "circle"
         },
         "mode": "markers",
         "name": "Tel Aviv University and Google",
         "scene": "scene",
         "showlegend": true,
         "type": "scatter3d",
         "x": [
          2019
         ],
         "y": [
          "ICML"
         ],
         "z": [
          "Haim Kaplan"
         ]
        },
        {
         "hovertemplate": "Affiliation=G-Research<br>Year=%{x}<br>Conference=%{y}<br>Author=%{z}<extra></extra>",
         "legendgroup": "G-Research",
         "marker": {
          "color": "#00cc96",
          "symbol": "circle"
         },
         "mode": "markers",
         "name": "G-Research",
         "scene": "scene",
         "showlegend": true,
         "type": "scatter3d",
         "x": [
          2009
         ],
         "y": [
          "NeurIPS"
         ],
         "z": [
          "Pasi Jylänki"
         ]
        },
        {
         "hovertemplate": "Affiliation=Google Brain  &  CREST - ENSAE<br>Year=%{x}<br>Conference=%{y}<br>Author=%{z}<extra></extra>",
         "legendgroup": "Google Brain  &  CREST - ENSAE",
         "marker": {
          "color": "#ab63fa",
          "symbol": "circle"
         },
         "mode": "markers",
         "name": "Google Brain  &  CREST - ENSAE",
         "scene": "scene",
         "showlegend": true,
         "type": "scatter3d",
         "x": [
          2013
         ],
         "y": [
          "NeurIPS"
         ],
         "z": [
          "Marco Cuturi"
         ]
        },
        {
         "hovertemplate": "Affiliation=University of Michigan<br>Year=%{x}<br>Conference=%{y}<br>Author=%{z}<extra></extra>",
         "legendgroup": "University of Michigan",
         "marker": {
          "color": "#FFA15A",
          "symbol": "circle"
         },
         "mode": "markers",
         "name": "University of Michigan",
         "scene": "scene",
         "showlegend": true,
         "type": "scatter3d",
         "x": [
          2017
         ],
         "y": [
          "NeurIPS"
         ],
         "z": [
          "Jian Wang"
         ]
        },
        {
         "hovertemplate": "Affiliation=KAUST<br>Year=%{x}<br>Conference=%{y}<br>Author=%{z}<extra></extra>",
         "legendgroup": "KAUST",
         "marker": {
          "color": "#19d3f3",
          "symbol": "circle"
         },
         "mode": "markers",
         "name": "KAUST",
         "scene": "scene",
         "showlegend": true,
         "type": "scatter3d",
         "x": [
          2018
         ],
         "y": [
          "NeurIPS"
         ],
         "z": [
          "Peter Richtarik"
         ]
        },
        {
         "hovertemplate": "Affiliation=Heidelberg University<br>Year=%{x}<br>Conference=%{y}<br>Author=%{z}<extra></extra>",
         "legendgroup": "Heidelberg University",
         "marker": {
          "color": "#FF6692",
          "symbol": "circle"
         },
         "mode": "markers",
         "name": "Heidelberg University",
         "scene": "scene",
         "showlegend": true,
         "type": "scatter3d",
         "x": [
          2018
         ],
         "y": [
          "ICML"
         ],
         "z": [
          "Felix Draxler"
         ]
        },
        {
         "hovertemplate": "Affiliation=Brown University<br>Year=%{x}<br>Conference=%{y}<br>Author=%{z}<extra></extra>",
         "legendgroup": "Brown University",
         "marker": {
          "color": "#B6E880",
          "symbol": "circle"
         },
         "mode": "markers",
         "name": "Brown University",
         "scene": "scene",
         "showlegend": true,
         "type": "scatter3d",
         "x": [
          2012
         ],
         "y": [
          "NeurIPS"
         ],
         "z": [
          "Amy Greenwald"
         ]
        },
        {
         "hovertemplate": "Affiliation=Facebook AI<br>Year=%{x}<br>Conference=%{y}<br>Author=%{z}<extra></extra>",
         "legendgroup": "Facebook AI",
         "marker": {
          "color": "#FF97FF",
          "symbol": "circle"
         },
         "mode": "markers",
         "name": "Facebook AI",
         "scene": "scene",
         "showlegend": true,
         "type": "scatter3d",
         "x": [
          2021
         ],
         "y": [
          "ICLR"
         ],
         "z": [
          "Bilal Alsallakh"
         ]
        },
        {
         "hovertemplate": "Affiliation=Ant Financial<br>Year=%{x}<br>Conference=%{y}<br>Author=%{z}<extra></extra>",
         "legendgroup": "Ant Financial",
         "marker": {
          "color": "#FECB52",
          "symbol": "circle"
         },
         "mode": "markers",
         "name": "Ant Financial",
         "scene": "scene",
         "showlegend": true,
         "type": "scatter3d",
         "x": [
          2019
         ],
         "y": [
          "NeurIPS"
         ],
         "z": [
          "Chaochao Chen"
         ]
        },
        {
         "hovertemplate": "Affiliation=University of Illinois at Urbana Champaign<br>Year=%{x}<br>Conference=%{y}<br>Author=%{z}<extra></extra>",
         "legendgroup": "University of Illinois at Urbana Champaign",
         "marker": {
          "color": "#636efa",
          "symbol": "circle"
         },
         "mode": "markers",
         "name": "University of Illinois at Urbana Champaign",
         "scene": "scene",
         "showlegend": true,
         "type": "scatter3d",
         "x": [
          2020
         ],
         "y": [
          "NeurIPS"
         ],
         "z": [
          "Konik Kothari"
         ]
        },
        {
         "hovertemplate": "Affiliation=Universite Laval<br>Year=%{x}<br>Conference=%{y}<br>Author=%{z}<extra></extra>",
         "legendgroup": "Universite Laval",
         "marker": {
          "color": "#EF553B",
          "symbol": "circle"
         },
         "mode": "markers",
         "name": "Universite Laval",
         "scene": "scene",
         "showlegend": true,
         "type": "scatter3d",
         "x": [
          2009
         ],
         "y": [
          "NeurIPS"
         ],
         "z": [
          "Alexandre Lacasse"
         ]
        },
        {
         "hovertemplate": "Affiliation=University of Virginia<br>Year=%{x}<br>Conference=%{y}<br>Author=%{z}<extra></extra>",
         "legendgroup": "University of Virginia",
         "marker": {
          "color": "#00cc96",
          "symbol": "circle"
         },
         "mode": "markers",
         "name": "University of Virginia",
         "scene": "scene",
         "showlegend": true,
         "type": "scatter3d",
         "x": [
          2021
         ],
         "y": [
          "ICLR"
         ],
         "z": [
          "XIAO ZHANG"
         ]
        },
        {
         "hovertemplate": "Affiliation=Rutgers University<br>Year=%{x}<br>Conference=%{y}<br>Author=%{z}<extra></extra>",
         "legendgroup": "Rutgers University",
         "marker": {
          "color": "#ab63fa",
          "symbol": "circle"
         },
         "mode": "markers",
         "name": "Rutgers University",
         "scene": "scene",
         "showlegend": true,
         "type": "scatter3d",
         "x": [
          2010
         ],
         "y": [
          "NeurIPS"
         ],
         "z": [
          "Manish Singh"
         ]
        },
        {
         "hovertemplate": "Affiliation=University of Texas at Austin<br>Year=%{x}<br>Conference=%{y}<br>Author=%{z}<extra></extra>",
         "legendgroup": "University of Texas at Austin",
         "marker": {
          "color": "#FFA15A",
          "symbol": "circle"
         },
         "mode": "markers",
         "name": "University of Texas at Austin",
         "scene": "scene",
         "showlegend": true,
         "type": "scatter3d",
         "x": [
          2017
         ],
         "y": [
          "ICML"
         ],
         "z": [
          "Adam Klivans"
         ]
        },
        {
         "hovertemplate": "Affiliation=University of Munich<br>Year=%{x}<br>Conference=%{y}<br>Author=%{z}<extra></extra>",
         "legendgroup": "University of Munich",
         "marker": {
          "color": "#19d3f3",
          "symbol": "circle"
         },
         "mode": "markers",
         "name": "University of Munich",
         "scene": "scene",
         "showlegend": true,
         "type": "scatter3d",
         "x": [
          2007
         ],
         "y": [
          "NeurIPS"
         ],
         "z": [
          "Shipeng Yu"
         ]
        },
        {
         "hovertemplate": "Affiliation=Queen Mary, University of London<br>Year=%{x}<br>Conference=%{y}<br>Author=%{z}<extra></extra>",
         "legendgroup": "Queen Mary, University of London",
         "marker": {
          "color": "#FF6692",
          "symbol": "circle"
         },
         "mode": "markers",
         "name": "Queen Mary, University of London",
         "scene": "scene",
         "showlegend": true,
         "type": "scatter3d",
         "x": [
          2018
         ],
         "y": [
          "NeurIPS"
         ],
         "z": [
          "xu lan"
         ]
        },
        {
         "hovertemplate": "Affiliation=Massachusetts Institute of Technology<br>Year=%{x}<br>Conference=%{y}<br>Author=%{z}<extra></extra>",
         "legendgroup": "Massachusetts Institute of Technology",
         "marker": {
          "color": "#B6E880",
          "symbol": "circle"
         },
         "mode": "markers",
         "name": "Massachusetts Institute of Technology",
         "scene": "scene",
         "showlegend": true,
         "type": "scatter3d",
         "x": [
          2008,
          2020
         ],
         "y": [
          "NeurIPS",
          "NeurIPS"
         ],
         "z": [
          "Viren Jain",
          "Wilko Schwarting"
         ]
        },
        {
         "hovertemplate": "Affiliation=NICTA<br>Year=%{x}<br>Conference=%{y}<br>Author=%{z}<extra></extra>",
         "legendgroup": "NICTA",
         "marker": {
          "color": "#FF97FF",
          "symbol": "circle"
         },
         "mode": "markers",
         "name": "NICTA",
         "scene": "scene",
         "showlegend": true,
         "type": "scatter3d",
         "x": [
          2015
         ],
         "y": [
          "NeurIPS"
         ],
         "z": [
          "Justin Domke"
         ]
        },
        {
         "hovertemplate": "Affiliation=University of Wisconsin Madison<br>Year=%{x}<br>Conference=%{y}<br>Author=%{z}<extra></extra>",
         "legendgroup": "University of Wisconsin Madison",
         "marker": {
          "color": "#FECB52",
          "symbol": "circle"
         },
         "mode": "markers",
         "name": "University of Wisconsin Madison",
         "scene": "scene",
         "showlegend": true,
         "type": "scatter3d",
         "x": [
          2020
         ],
         "y": [
          "NeurIPS"
         ],
         "z": [
          "Yingyu Liang"
         ]
        },
        {
         "hovertemplate": "Affiliation=MIT<br>Year=%{x}<br>Conference=%{y}<br>Author=%{z}<extra></extra>",
         "legendgroup": "MIT",
         "marker": {
          "color": "#636efa",
          "symbol": "circle"
         },
         "mode": "markers",
         "name": "MIT",
         "scene": "scene",
         "showlegend": true,
         "type": "scatter3d",
         "x": [
          2006
         ],
         "y": [
          "NeurIPS"
         ],
         "z": [
          "Josh Tenenbaum"
         ]
        },
        {
         "hovertemplate": "Affiliation=Columbia University<br>Year=%{x}<br>Conference=%{y}<br>Author=%{z}<extra></extra>",
         "legendgroup": "Columbia University",
         "marker": {
          "color": "#EF553B",
          "symbol": "circle"
         },
         "mode": "markers",
         "name": "Columbia University",
         "scene": "scene",
         "showlegend": true,
         "type": "scatter3d",
         "x": [
          2018
         ],
         "y": [
          "ICLR"
         ],
         "z": [
          "Scott Linderman"
         ]
        },
        {
         "hovertemplate": "Affiliation=ANITI<br>Year=%{x}<br>Conference=%{y}<br>Author=%{z}<extra></extra>",
         "legendgroup": "ANITI",
         "marker": {
          "color": "#00cc96",
          "symbol": "circle"
         },
         "mode": "markers",
         "name": "ANITI",
         "scene": "scene",
         "showlegend": true,
         "type": "scatter3d",
         "x": [
          2020
         ],
         "y": [
          "NeurIPS"
         ],
         "z": [
          "Thomas Gerspacher"
         ]
        },
        {
         "hovertemplate": "Affiliation=IPhT, CEA Saclay<br>Year=%{x}<br>Conference=%{y}<br>Author=%{z}<extra></extra>",
         "legendgroup": "IPhT, CEA Saclay",
         "marker": {
          "color": "#ab63fa",
          "symbol": "circle"
         },
         "mode": "markers",
         "name": "IPhT, CEA Saclay",
         "scene": "scene",
         "showlegend": true,
         "type": "scatter3d",
         "x": [
          2020
         ],
         "y": [
          "ICML"
         ],
         "z": [
          "Francesca Mignacco"
         ]
        },
        {
         "hovertemplate": "Affiliation=ETH Zurich<br>Year=%{x}<br>Conference=%{y}<br>Author=%{z}<extra></extra>",
         "legendgroup": "ETH Zurich",
         "marker": {
          "color": "#FFA15A",
          "symbol": "circle"
         },
         "mode": "markers",
         "name": "ETH Zurich",
         "scene": "scene",
         "showlegend": true,
         "type": "scatter3d",
         "x": [
          2017
         ],
         "y": [
          "ICML"
         ],
         "z": [
          "Andreas Krause"
         ]
        },
        {
         "hovertemplate": "Affiliation=Huawei Technologies<br>Year=%{x}<br>Conference=%{y}<br>Author=%{z}<extra></extra>",
         "legendgroup": "Huawei Technologies",
         "marker": {
          "color": "#19d3f3",
          "symbol": "circle"
         },
         "mode": "markers",
         "name": "Huawei Technologies",
         "scene": "scene",
         "showlegend": true,
         "type": "scatter3d",
         "x": [
          2019
         ],
         "y": [
          "NeurIPS"
         ],
         "z": [
          "Chunjing XU"
         ]
        },
        {
         "hovertemplate": "Affiliation=University of Massachusetts, Amherst<br>Year=%{x}<br>Conference=%{y}<br>Author=%{z}<extra></extra>",
         "legendgroup": "University of Massachusetts, Amherst",
         "marker": {
          "color": "#FF6692",
          "symbol": "circle"
         },
         "mode": "markers",
         "name": "University of Massachusetts, Amherst",
         "scene": "scene",
         "showlegend": true,
         "type": "scatter3d",
         "x": [
          2017
         ],
         "y": [
          "ICML"
         ],
         "z": [
          "Gerome Miklau"
         ]
        }
       ],
       "layout": {
        "legend": {
         "title": {
          "text": "Affiliation"
         },
         "tracegroupgap": 0
        },
        "margin": {
         "t": 60
        },
        "scene": {
         "domain": {
          "x": [
           0,
           1
          ],
          "y": [
           0,
           1
          ]
         },
         "xaxis": {
          "title": {
           "text": "Year"
          }
         },
         "yaxis": {
          "title": {
           "text": "Conference"
          }
         },
         "zaxis": {
          "title": {
           "text": "Author"
          }
         }
        },
        "template": {
         "data": {
          "bar": [
           {
            "error_x": {
             "color": "#f2f5fa"
            },
            "error_y": {
             "color": "#f2f5fa"
            },
            "marker": {
             "line": {
              "color": "rgb(17,17,17)",
              "width": 0.5
             },
             "pattern": {
              "fillmode": "overlay",
              "size": 10,
              "solidity": 0.2
             }
            },
            "type": "bar"
           }
          ],
          "barpolar": [
           {
            "marker": {
             "line": {
              "color": "rgb(17,17,17)",
              "width": 0.5
             },
             "pattern": {
              "fillmode": "overlay",
              "size": 10,
              "solidity": 0.2
             }
            },
            "type": "barpolar"
           }
          ],
          "carpet": [
           {
            "aaxis": {
             "endlinecolor": "#A2B1C6",
             "gridcolor": "#506784",
             "linecolor": "#506784",
             "minorgridcolor": "#506784",
             "startlinecolor": "#A2B1C6"
            },
            "baxis": {
             "endlinecolor": "#A2B1C6",
             "gridcolor": "#506784",
             "linecolor": "#506784",
             "minorgridcolor": "#506784",
             "startlinecolor": "#A2B1C6"
            },
            "type": "carpet"
           }
          ],
          "choropleth": [
           {
            "colorbar": {
             "outlinewidth": 0,
             "ticks": ""
            },
            "type": "choropleth"
           }
          ],
          "contour": [
           {
            "colorbar": {
             "outlinewidth": 0,
             "ticks": ""
            },
            "colorscale": [
             [
              0,
              "#0d0887"
             ],
             [
              0.1111111111111111,
              "#46039f"
             ],
             [
              0.2222222222222222,
              "#7201a8"
             ],
             [
              0.3333333333333333,
              "#9c179e"
             ],
             [
              0.4444444444444444,
              "#bd3786"
             ],
             [
              0.5555555555555556,
              "#d8576b"
             ],
             [
              0.6666666666666666,
              "#ed7953"
             ],
             [
              0.7777777777777778,
              "#fb9f3a"
             ],
             [
              0.8888888888888888,
              "#fdca26"
             ],
             [
              1,
              "#f0f921"
             ]
            ],
            "type": "contour"
           }
          ],
          "contourcarpet": [
           {
            "colorbar": {
             "outlinewidth": 0,
             "ticks": ""
            },
            "type": "contourcarpet"
           }
          ],
          "heatmap": [
           {
            "colorbar": {
             "outlinewidth": 0,
             "ticks": ""
            },
            "colorscale": [
             [
              0,
              "#0d0887"
             ],
             [
              0.1111111111111111,
              "#46039f"
             ],
             [
              0.2222222222222222,
              "#7201a8"
             ],
             [
              0.3333333333333333,
              "#9c179e"
             ],
             [
              0.4444444444444444,
              "#bd3786"
             ],
             [
              0.5555555555555556,
              "#d8576b"
             ],
             [
              0.6666666666666666,
              "#ed7953"
             ],
             [
              0.7777777777777778,
              "#fb9f3a"
             ],
             [
              0.8888888888888888,
              "#fdca26"
             ],
             [
              1,
              "#f0f921"
             ]
            ],
            "type": "heatmap"
           }
          ],
          "heatmapgl": [
           {
            "colorbar": {
             "outlinewidth": 0,
             "ticks": ""
            },
            "colorscale": [
             [
              0,
              "#0d0887"
             ],
             [
              0.1111111111111111,
              "#46039f"
             ],
             [
              0.2222222222222222,
              "#7201a8"
             ],
             [
              0.3333333333333333,
              "#9c179e"
             ],
             [
              0.4444444444444444,
              "#bd3786"
             ],
             [
              0.5555555555555556,
              "#d8576b"
             ],
             [
              0.6666666666666666,
              "#ed7953"
             ],
             [
              0.7777777777777778,
              "#fb9f3a"
             ],
             [
              0.8888888888888888,
              "#fdca26"
             ],
             [
              1,
              "#f0f921"
             ]
            ],
            "type": "heatmapgl"
           }
          ],
          "histogram": [
           {
            "marker": {
             "pattern": {
              "fillmode": "overlay",
              "size": 10,
              "solidity": 0.2
             }
            },
            "type": "histogram"
           }
          ],
          "histogram2d": [
           {
            "colorbar": {
             "outlinewidth": 0,
             "ticks": ""
            },
            "colorscale": [
             [
              0,
              "#0d0887"
             ],
             [
              0.1111111111111111,
              "#46039f"
             ],
             [
              0.2222222222222222,
              "#7201a8"
             ],
             [
              0.3333333333333333,
              "#9c179e"
             ],
             [
              0.4444444444444444,
              "#bd3786"
             ],
             [
              0.5555555555555556,
              "#d8576b"
             ],
             [
              0.6666666666666666,
              "#ed7953"
             ],
             [
              0.7777777777777778,
              "#fb9f3a"
             ],
             [
              0.8888888888888888,
              "#fdca26"
             ],
             [
              1,
              "#f0f921"
             ]
            ],
            "type": "histogram2d"
           }
          ],
          "histogram2dcontour": [
           {
            "colorbar": {
             "outlinewidth": 0,
             "ticks": ""
            },
            "colorscale": [
             [
              0,
              "#0d0887"
             ],
             [
              0.1111111111111111,
              "#46039f"
             ],
             [
              0.2222222222222222,
              "#7201a8"
             ],
             [
              0.3333333333333333,
              "#9c179e"
             ],
             [
              0.4444444444444444,
              "#bd3786"
             ],
             [
              0.5555555555555556,
              "#d8576b"
             ],
             [
              0.6666666666666666,
              "#ed7953"
             ],
             [
              0.7777777777777778,
              "#fb9f3a"
             ],
             [
              0.8888888888888888,
              "#fdca26"
             ],
             [
              1,
              "#f0f921"
             ]
            ],
            "type": "histogram2dcontour"
           }
          ],
          "mesh3d": [
           {
            "colorbar": {
             "outlinewidth": 0,
             "ticks": ""
            },
            "type": "mesh3d"
           }
          ],
          "parcoords": [
           {
            "line": {
             "colorbar": {
              "outlinewidth": 0,
              "ticks": ""
             }
            },
            "type": "parcoords"
           }
          ],
          "pie": [
           {
            "automargin": true,
            "type": "pie"
           }
          ],
          "scatter": [
           {
            "marker": {
             "line": {
              "color": "#283442"
             }
            },
            "type": "scatter"
           }
          ],
          "scatter3d": [
           {
            "line": {
             "colorbar": {
              "outlinewidth": 0,
              "ticks": ""
             }
            },
            "marker": {
             "colorbar": {
              "outlinewidth": 0,
              "ticks": ""
             }
            },
            "type": "scatter3d"
           }
          ],
          "scattercarpet": [
           {
            "marker": {
             "colorbar": {
              "outlinewidth": 0,
              "ticks": ""
             }
            },
            "type": "scattercarpet"
           }
          ],
          "scattergeo": [
           {
            "marker": {
             "colorbar": {
              "outlinewidth": 0,
              "ticks": ""
             }
            },
            "type": "scattergeo"
           }
          ],
          "scattergl": [
           {
            "marker": {
             "line": {
              "color": "#283442"
             }
            },
            "type": "scattergl"
           }
          ],
          "scattermapbox": [
           {
            "marker": {
             "colorbar": {
              "outlinewidth": 0,
              "ticks": ""
             }
            },
            "type": "scattermapbox"
           }
          ],
          "scatterpolar": [
           {
            "marker": {
             "colorbar": {
              "outlinewidth": 0,
              "ticks": ""
             }
            },
            "type": "scatterpolar"
           }
          ],
          "scatterpolargl": [
           {
            "marker": {
             "colorbar": {
              "outlinewidth": 0,
              "ticks": ""
             }
            },
            "type": "scatterpolargl"
           }
          ],
          "scatterternary": [
           {
            "marker": {
             "colorbar": {
              "outlinewidth": 0,
              "ticks": ""
             }
            },
            "type": "scatterternary"
           }
          ],
          "surface": [
           {
            "colorbar": {
             "outlinewidth": 0,
             "ticks": ""
            },
            "colorscale": [
             [
              0,
              "#0d0887"
             ],
             [
              0.1111111111111111,
              "#46039f"
             ],
             [
              0.2222222222222222,
              "#7201a8"
             ],
             [
              0.3333333333333333,
              "#9c179e"
             ],
             [
              0.4444444444444444,
              "#bd3786"
             ],
             [
              0.5555555555555556,
              "#d8576b"
             ],
             [
              0.6666666666666666,
              "#ed7953"
             ],
             [
              0.7777777777777778,
              "#fb9f3a"
             ],
             [
              0.8888888888888888,
              "#fdca26"
             ],
             [
              1,
              "#f0f921"
             ]
            ],
            "type": "surface"
           }
          ],
          "table": [
           {
            "cells": {
             "fill": {
              "color": "#506784"
             },
             "line": {
              "color": "rgb(17,17,17)"
             }
            },
            "header": {
             "fill": {
              "color": "#2a3f5f"
             },
             "line": {
              "color": "rgb(17,17,17)"
             }
            },
            "type": "table"
           }
          ]
         },
         "layout": {
          "annotationdefaults": {
           "arrowcolor": "#f2f5fa",
           "arrowhead": 0,
           "arrowwidth": 1
          },
          "autotypenumbers": "strict",
          "coloraxis": {
           "colorbar": {
            "outlinewidth": 0,
            "ticks": ""
           }
          },
          "colorscale": {
           "diverging": [
            [
             0,
             "#8e0152"
            ],
            [
             0.1,
             "#c51b7d"
            ],
            [
             0.2,
             "#de77ae"
            ],
            [
             0.3,
             "#f1b6da"
            ],
            [
             0.4,
             "#fde0ef"
            ],
            [
             0.5,
             "#f7f7f7"
            ],
            [
             0.6,
             "#e6f5d0"
            ],
            [
             0.7,
             "#b8e186"
            ],
            [
             0.8,
             "#7fbc41"
            ],
            [
             0.9,
             "#4d9221"
            ],
            [
             1,
             "#276419"
            ]
           ],
           "sequential": [
            [
             0,
             "#0d0887"
            ],
            [
             0.1111111111111111,
             "#46039f"
            ],
            [
             0.2222222222222222,
             "#7201a8"
            ],
            [
             0.3333333333333333,
             "#9c179e"
            ],
            [
             0.4444444444444444,
             "#bd3786"
            ],
            [
             0.5555555555555556,
             "#d8576b"
            ],
            [
             0.6666666666666666,
             "#ed7953"
            ],
            [
             0.7777777777777778,
             "#fb9f3a"
            ],
            [
             0.8888888888888888,
             "#fdca26"
            ],
            [
             1,
             "#f0f921"
            ]
           ],
           "sequentialminus": [
            [
             0,
             "#0d0887"
            ],
            [
             0.1111111111111111,
             "#46039f"
            ],
            [
             0.2222222222222222,
             "#7201a8"
            ],
            [
             0.3333333333333333,
             "#9c179e"
            ],
            [
             0.4444444444444444,
             "#bd3786"
            ],
            [
             0.5555555555555556,
             "#d8576b"
            ],
            [
             0.6666666666666666,
             "#ed7953"
            ],
            [
             0.7777777777777778,
             "#fb9f3a"
            ],
            [
             0.8888888888888888,
             "#fdca26"
            ],
            [
             1,
             "#f0f921"
            ]
           ]
          },
          "colorway": [
           "#636efa",
           "#EF553B",
           "#00cc96",
           "#ab63fa",
           "#FFA15A",
           "#19d3f3",
           "#FF6692",
           "#B6E880",
           "#FF97FF",
           "#FECB52"
          ],
          "font": {
           "color": "#f2f5fa"
          },
          "geo": {
           "bgcolor": "rgb(17,17,17)",
           "lakecolor": "rgb(17,17,17)",
           "landcolor": "rgb(17,17,17)",
           "showlakes": true,
           "showland": true,
           "subunitcolor": "#506784"
          },
          "hoverlabel": {
           "align": "left"
          },
          "hovermode": "closest",
          "mapbox": {
           "style": "dark"
          },
          "paper_bgcolor": "rgb(17,17,17)",
          "plot_bgcolor": "rgb(17,17,17)",
          "polar": {
           "angularaxis": {
            "gridcolor": "#506784",
            "linecolor": "#506784",
            "ticks": ""
           },
           "bgcolor": "rgb(17,17,17)",
           "radialaxis": {
            "gridcolor": "#506784",
            "linecolor": "#506784",
            "ticks": ""
           }
          },
          "scene": {
           "xaxis": {
            "backgroundcolor": "rgb(17,17,17)",
            "gridcolor": "#506784",
            "gridwidth": 2,
            "linecolor": "#506784",
            "showbackground": true,
            "ticks": "",
            "zerolinecolor": "#C8D4E3"
           },
           "yaxis": {
            "backgroundcolor": "rgb(17,17,17)",
            "gridcolor": "#506784",
            "gridwidth": 2,
            "linecolor": "#506784",
            "showbackground": true,
            "ticks": "",
            "zerolinecolor": "#C8D4E3"
           },
           "zaxis": {
            "backgroundcolor": "rgb(17,17,17)",
            "gridcolor": "#506784",
            "gridwidth": 2,
            "linecolor": "#506784",
            "showbackground": true,
            "ticks": "",
            "zerolinecolor": "#C8D4E3"
           }
          },
          "shapedefaults": {
           "line": {
            "color": "#f2f5fa"
           }
          },
          "sliderdefaults": {
           "bgcolor": "#C8D4E3",
           "bordercolor": "rgb(17,17,17)",
           "borderwidth": 1,
           "tickwidth": 0
          },
          "ternary": {
           "aaxis": {
            "gridcolor": "#506784",
            "linecolor": "#506784",
            "ticks": ""
           },
           "baxis": {
            "gridcolor": "#506784",
            "linecolor": "#506784",
            "ticks": ""
           },
           "bgcolor": "rgb(17,17,17)",
           "caxis": {
            "gridcolor": "#506784",
            "linecolor": "#506784",
            "ticks": ""
           }
          },
          "title": {
           "x": 0.05
          },
          "updatemenudefaults": {
           "bgcolor": "#506784",
           "borderwidth": 0
          },
          "xaxis": {
           "automargin": true,
           "gridcolor": "#283442",
           "linecolor": "#506784",
           "ticks": "",
           "title": {
            "standoff": 15
           },
           "zerolinecolor": "#283442",
           "zerolinewidth": 2
          },
          "yaxis": {
           "automargin": true,
           "gridcolor": "#283442",
           "linecolor": "#506784",
           "ticks": "",
           "title": {
            "standoff": 15
           },
           "zerolinecolor": "#283442",
           "zerolinewidth": 2
          }
         }
        }
       }
      }
     },
     "metadata": {},
     "output_type": "display_data"
    }
   ],
   "source": [
    "# Visualising the data\n",
    "\n",
    "fig = px.scatter_3d(papers_df.sample(n=100), x='Year', y='Conference', z='Author',\n",
    "              color='Affiliation', template=\"plotly_dark\")\n",
    "# fig.update_layout(margin={\"r\":0,\"t\":10,\"l\":00,\"b\":100})\n",
    "fig.show()"
   ]
  },
  {
   "cell_type": "code",
   "execution_count": 6,
   "metadata": {},
   "outputs": [],
   "source": [
    "# get the list of the top 10 universities till now\n",
    "dict_ = {}\n",
    "for insti in papers_df['Affiliation']:\n",
    "    insti = str(insti)\n",
    "    if insti == 'None':\n",
    "        continue\n",
    "    if insti not in dict_.keys():\n",
    "        dict_[insti] = (papers_df.Affiliation == insti).sum()\n",
    "\n",
    "sorted_by_value=(sorted(dict_.items(), key=lambda item: item[1], reverse=True))\n",
    "top_10_institutes = []\n",
    "for tuple in sorted_by_value[:10]:\n",
    "    top_10_institutes.append(tuple[0])"
   ]
  },
  {
   "cell_type": "code",
   "execution_count": 7,
   "metadata": {},
   "outputs": [],
   "source": [
    "# get a dictionary which outputs the list of number of papers published by top 10 universities in a year x:\n",
    "y_paper_count_top_10 = {}\n",
    "\n",
    "for year in range(2006,2022, 1):\n",
    "    y_paper_count_top_10[year] = []\n",
    "    temp_df = papers_df[papers_df.Year == year]\n",
    "    for insti in top_10_institutes:\n",
    "        count = (temp_df.Affiliation==insti).sum()\n",
    "        y_paper_count_top_10[year].append(count)\n"
   ]
  },
  {
   "cell_type": "code",
   "execution_count": 9,
   "metadata": {},
   "outputs": [
    {
     "data": {
      "application/vnd.plotly.v1+json": {
       "config": {
        "plotlyServerURL": "https://plot.ly"
       },
       "data": [
        {
         "name": "Year=2006",
         "type": "bar",
         "visible": true,
         "x": [
          "Stanford University",
          "Google",
          "DeepMind",
          "Carnegie Mellon University",
          "UC Berkeley",
          "MIT",
          "Microsoft Research",
          "Google Brain",
          "Princeton University",
          "University of Oxford"
         ],
         "y": [
          13,
          14,
          0,
          13,
          11,
          11,
          9,
          3,
          1,
          3
         ]
        },
        {
         "name": "Year=2007",
         "type": "bar",
         "visible": false,
         "x": [
          "Stanford University",
          "Google",
          "DeepMind",
          "Carnegie Mellon University",
          "UC Berkeley",
          "MIT",
          "Microsoft Research",
          "Google Brain",
          "Princeton University",
          "University of Oxford"
         ],
         "y": [
          9,
          13,
          3,
          14,
          11,
          7,
          10,
          2,
          4,
          3
         ]
        },
        {
         "name": "Year=2008",
         "type": "bar",
         "visible": false,
         "x": [
          "Stanford University",
          "Google",
          "DeepMind",
          "Carnegie Mellon University",
          "UC Berkeley",
          "MIT",
          "Microsoft Research",
          "Google Brain",
          "Princeton University",
          "University of Oxford"
         ],
         "y": [
          6,
          7,
          5,
          29,
          16,
          3,
          15,
          0,
          7,
          2
         ]
        },
        {
         "name": "Year=2009",
         "type": "bar",
         "visible": false,
         "x": [
          "Stanford University",
          "Google",
          "DeepMind",
          "Carnegie Mellon University",
          "UC Berkeley",
          "MIT",
          "Microsoft Research",
          "Google Brain",
          "Princeton University",
          "University of Oxford"
         ],
         "y": [
          11,
          12,
          5,
          22,
          22,
          5,
          11,
          1,
          11,
          2
         ]
        },
        {
         "name": "Year=2010",
         "type": "bar",
         "visible": false,
         "x": [
          "Stanford University",
          "Google",
          "DeepMind",
          "Carnegie Mellon University",
          "UC Berkeley",
          "MIT",
          "Microsoft Research",
          "Google Brain",
          "Princeton University",
          "University of Oxford"
         ],
         "y": [
          16,
          13,
          6,
          27,
          18,
          5,
          16,
          2,
          7,
          0
         ]
        },
        {
         "name": "Year=2011",
         "type": "bar",
         "visible": false,
         "x": [
          "Stanford University",
          "Google",
          "DeepMind",
          "Carnegie Mellon University",
          "UC Berkeley",
          "MIT",
          "Microsoft Research",
          "Google Brain",
          "Princeton University",
          "University of Oxford"
         ],
         "y": [
          29,
          9,
          5,
          22,
          14,
          7,
          15,
          1,
          4,
          2
         ]
        },
        {
         "name": "Year=2012",
         "type": "bar",
         "visible": false,
         "x": [
          "Stanford University",
          "Google",
          "DeepMind",
          "Carnegie Mellon University",
          "UC Berkeley",
          "MIT",
          "Microsoft Research",
          "Google Brain",
          "Princeton University",
          "University of Oxford"
         ],
         "y": [
          26,
          10,
          11,
          18,
          25,
          8,
          15,
          7,
          14,
          6
         ]
        },
        {
         "name": "Year=2013",
         "type": "bar",
         "visible": false,
         "x": [
          "Stanford University",
          "Google",
          "DeepMind",
          "Carnegie Mellon University",
          "UC Berkeley",
          "MIT",
          "Microsoft Research",
          "Google Brain",
          "Princeton University",
          "University of Oxford"
         ],
         "y": [
          31,
          13,
          8,
          17,
          30,
          21,
          23,
          4,
          8,
          4
         ]
        },
        {
         "name": "Year=2014",
         "type": "bar",
         "visible": false,
         "x": [
          "Stanford University",
          "Google",
          "DeepMind",
          "Carnegie Mellon University",
          "UC Berkeley",
          "MIT",
          "Microsoft Research",
          "Google Brain",
          "Princeton University",
          "University of Oxford"
         ],
         "y": [
          26,
          20,
          15,
          39,
          41,
          11,
          21,
          10,
          12,
          8
         ]
        },
        {
         "name": "Year=2015",
         "type": "bar",
         "visible": false,
         "x": [
          "Stanford University",
          "Google",
          "DeepMind",
          "Carnegie Mellon University",
          "UC Berkeley",
          "MIT",
          "Microsoft Research",
          "Google Brain",
          "Princeton University",
          "University of Oxford"
         ],
         "y": [
          32,
          27,
          2,
          27,
          31,
          53,
          22,
          0,
          29,
          6
         ]
        },
        {
         "name": "Year=2016",
         "type": "bar",
         "visible": false,
         "x": [
          "Stanford University",
          "Google",
          "DeepMind",
          "Carnegie Mellon University",
          "UC Berkeley",
          "MIT",
          "Microsoft Research",
          "Google Brain",
          "Princeton University",
          "University of Oxford"
         ],
         "y": [
          62,
          58,
          29,
          57,
          45,
          51,
          38,
          11,
          52,
          16
         ]
        },
        {
         "name": "Year=2017",
         "type": "bar",
         "visible": false,
         "x": [
          "Stanford University",
          "Google",
          "DeepMind",
          "Carnegie Mellon University",
          "UC Berkeley",
          "MIT",
          "Microsoft Research",
          "Google Brain",
          "Princeton University",
          "University of Oxford"
         ],
         "y": [
          100,
          82,
          139,
          145,
          90,
          105,
          107,
          63,
          53,
          37
         ]
        },
        {
         "name": "Year=2018",
         "type": "bar",
         "visible": false,
         "x": [
          "Stanford University",
          "Google",
          "DeepMind",
          "Carnegie Mellon University",
          "UC Berkeley",
          "MIT",
          "Microsoft Research",
          "Google Brain",
          "Princeton University",
          "University of Oxford"
         ],
         "y": [
          197,
          216,
          290,
          171,
          194,
          161,
          100,
          150,
          81,
          99
         ]
        },
        {
         "name": "Year=2019",
         "type": "bar",
         "visible": false,
         "x": [
          "Stanford University",
          "Google",
          "DeepMind",
          "Carnegie Mellon University",
          "UC Berkeley",
          "MIT",
          "Microsoft Research",
          "Google Brain",
          "Princeton University",
          "University of Oxford"
         ],
         "y": [
          294,
          246,
          301,
          253,
          214,
          262,
          154,
          218,
          106,
          141
         ]
        },
        {
         "name": "Year=2020",
         "type": "bar",
         "visible": false,
         "x": [
          "Stanford University",
          "Google",
          "DeepMind",
          "Carnegie Mellon University",
          "UC Berkeley",
          "MIT",
          "Microsoft Research",
          "Google Brain",
          "Princeton University",
          "University of Oxford"
         ],
         "y": [
          319,
          298,
          301,
          198,
          251,
          257,
          152,
          165,
          146,
          162
         ]
        }
       ],
       "layout": {
        "sliders": [
         {
          "active": 0,
          "currentvalue": {
           "prefix": "Trend For Year: "
          },
          "pad": {
           "t": 80
          },
          "steps": [
           {
            "args": [
             {
              "visible": [
               true,
               false,
               false,
               false,
               false,
               false,
               false,
               false,
               false,
               false,
               false,
               false,
               false,
               false,
               false
              ]
             },
             {
              "title": "Slider switched to Year: 2006"
             }
            ],
            "label": "2006",
            "method": "update"
           },
           {
            "args": [
             {
              "visible": [
               false,
               true,
               false,
               false,
               false,
               false,
               false,
               false,
               false,
               false,
               false,
               false,
               false,
               false,
               false
              ]
             },
             {
              "title": "Slider switched to Year: 2007"
             }
            ],
            "label": "2007",
            "method": "update"
           },
           {
            "args": [
             {
              "visible": [
               false,
               false,
               true,
               false,
               false,
               false,
               false,
               false,
               false,
               false,
               false,
               false,
               false,
               false,
               false
              ]
             },
             {
              "title": "Slider switched to Year: 2008"
             }
            ],
            "label": "2008",
            "method": "update"
           },
           {
            "args": [
             {
              "visible": [
               false,
               false,
               false,
               true,
               false,
               false,
               false,
               false,
               false,
               false,
               false,
               false,
               false,
               false,
               false
              ]
             },
             {
              "title": "Slider switched to Year: 2009"
             }
            ],
            "label": "2009",
            "method": "update"
           },
           {
            "args": [
             {
              "visible": [
               false,
               false,
               false,
               false,
               true,
               false,
               false,
               false,
               false,
               false,
               false,
               false,
               false,
               false,
               false
              ]
             },
             {
              "title": "Slider switched to Year: 2010"
             }
            ],
            "label": "2010",
            "method": "update"
           },
           {
            "args": [
             {
              "visible": [
               false,
               false,
               false,
               false,
               false,
               true,
               false,
               false,
               false,
               false,
               false,
               false,
               false,
               false,
               false
              ]
             },
             {
              "title": "Slider switched to Year: 2011"
             }
            ],
            "label": "2011",
            "method": "update"
           },
           {
            "args": [
             {
              "visible": [
               false,
               false,
               false,
               false,
               false,
               false,
               true,
               false,
               false,
               false,
               false,
               false,
               false,
               false,
               false
              ]
             },
             {
              "title": "Slider switched to Year: 2012"
             }
            ],
            "label": "2012",
            "method": "update"
           },
           {
            "args": [
             {
              "visible": [
               false,
               false,
               false,
               false,
               false,
               false,
               false,
               true,
               false,
               false,
               false,
               false,
               false,
               false,
               false
              ]
             },
             {
              "title": "Slider switched to Year: 2013"
             }
            ],
            "label": "2013",
            "method": "update"
           },
           {
            "args": [
             {
              "visible": [
               false,
               false,
               false,
               false,
               false,
               false,
               false,
               false,
               true,
               false,
               false,
               false,
               false,
               false,
               false
              ]
             },
             {
              "title": "Slider switched to Year: 2014"
             }
            ],
            "label": "2014",
            "method": "update"
           },
           {
            "args": [
             {
              "visible": [
               false,
               false,
               false,
               false,
               false,
               false,
               false,
               false,
               false,
               true,
               false,
               false,
               false,
               false,
               false
              ]
             },
             {
              "title": "Slider switched to Year: 2015"
             }
            ],
            "label": "2015",
            "method": "update"
           },
           {
            "args": [
             {
              "visible": [
               false,
               false,
               false,
               false,
               false,
               false,
               false,
               false,
               false,
               false,
               true,
               false,
               false,
               false,
               false
              ]
             },
             {
              "title": "Slider switched to Year: 2016"
             }
            ],
            "label": "2016",
            "method": "update"
           },
           {
            "args": [
             {
              "visible": [
               false,
               false,
               false,
               false,
               false,
               false,
               false,
               false,
               false,
               false,
               false,
               true,
               false,
               false,
               false
              ]
             },
             {
              "title": "Slider switched to Year: 2017"
             }
            ],
            "label": "2017",
            "method": "update"
           },
           {
            "args": [
             {
              "visible": [
               false,
               false,
               false,
               false,
               false,
               false,
               false,
               false,
               false,
               false,
               false,
               false,
               true,
               false,
               false
              ]
             },
             {
              "title": "Slider switched to Year: 2018"
             }
            ],
            "label": "2018",
            "method": "update"
           },
           {
            "args": [
             {
              "visible": [
               false,
               false,
               false,
               false,
               false,
               false,
               false,
               false,
               false,
               false,
               false,
               false,
               false,
               true,
               false
              ]
             },
             {
              "title": "Slider switched to Year: 2019"
             }
            ],
            "label": "2019",
            "method": "update"
           },
           {
            "args": [
             {
              "visible": [
               false,
               false,
               false,
               false,
               false,
               false,
               false,
               false,
               false,
               false,
               false,
               false,
               false,
               false,
               true
              ]
             },
             {
              "title": "Slider switched to Year: 2020"
             }
            ],
            "label": "2020",
            "method": "update"
           }
          ]
         }
        ],
        "template": {
         "data": {
          "bar": [
           {
            "error_x": {
             "color": "#2a3f5f"
            },
            "error_y": {
             "color": "#2a3f5f"
            },
            "marker": {
             "line": {
              "color": "#E5ECF6",
              "width": 0.5
             },
             "pattern": {
              "fillmode": "overlay",
              "size": 10,
              "solidity": 0.2
             }
            },
            "type": "bar"
           }
          ],
          "barpolar": [
           {
            "marker": {
             "line": {
              "color": "#E5ECF6",
              "width": 0.5
             },
             "pattern": {
              "fillmode": "overlay",
              "size": 10,
              "solidity": 0.2
             }
            },
            "type": "barpolar"
           }
          ],
          "carpet": [
           {
            "aaxis": {
             "endlinecolor": "#2a3f5f",
             "gridcolor": "white",
             "linecolor": "white",
             "minorgridcolor": "white",
             "startlinecolor": "#2a3f5f"
            },
            "baxis": {
             "endlinecolor": "#2a3f5f",
             "gridcolor": "white",
             "linecolor": "white",
             "minorgridcolor": "white",
             "startlinecolor": "#2a3f5f"
            },
            "type": "carpet"
           }
          ],
          "choropleth": [
           {
            "colorbar": {
             "outlinewidth": 0,
             "ticks": ""
            },
            "type": "choropleth"
           }
          ],
          "contour": [
           {
            "colorbar": {
             "outlinewidth": 0,
             "ticks": ""
            },
            "colorscale": [
             [
              0,
              "#0d0887"
             ],
             [
              0.1111111111111111,
              "#46039f"
             ],
             [
              0.2222222222222222,
              "#7201a8"
             ],
             [
              0.3333333333333333,
              "#9c179e"
             ],
             [
              0.4444444444444444,
              "#bd3786"
             ],
             [
              0.5555555555555556,
              "#d8576b"
             ],
             [
              0.6666666666666666,
              "#ed7953"
             ],
             [
              0.7777777777777778,
              "#fb9f3a"
             ],
             [
              0.8888888888888888,
              "#fdca26"
             ],
             [
              1,
              "#f0f921"
             ]
            ],
            "type": "contour"
           }
          ],
          "contourcarpet": [
           {
            "colorbar": {
             "outlinewidth": 0,
             "ticks": ""
            },
            "type": "contourcarpet"
           }
          ],
          "heatmap": [
           {
            "colorbar": {
             "outlinewidth": 0,
             "ticks": ""
            },
            "colorscale": [
             [
              0,
              "#0d0887"
             ],
             [
              0.1111111111111111,
              "#46039f"
             ],
             [
              0.2222222222222222,
              "#7201a8"
             ],
             [
              0.3333333333333333,
              "#9c179e"
             ],
             [
              0.4444444444444444,
              "#bd3786"
             ],
             [
              0.5555555555555556,
              "#d8576b"
             ],
             [
              0.6666666666666666,
              "#ed7953"
             ],
             [
              0.7777777777777778,
              "#fb9f3a"
             ],
             [
              0.8888888888888888,
              "#fdca26"
             ],
             [
              1,
              "#f0f921"
             ]
            ],
            "type": "heatmap"
           }
          ],
          "heatmapgl": [
           {
            "colorbar": {
             "outlinewidth": 0,
             "ticks": ""
            },
            "colorscale": [
             [
              0,
              "#0d0887"
             ],
             [
              0.1111111111111111,
              "#46039f"
             ],
             [
              0.2222222222222222,
              "#7201a8"
             ],
             [
              0.3333333333333333,
              "#9c179e"
             ],
             [
              0.4444444444444444,
              "#bd3786"
             ],
             [
              0.5555555555555556,
              "#d8576b"
             ],
             [
              0.6666666666666666,
              "#ed7953"
             ],
             [
              0.7777777777777778,
              "#fb9f3a"
             ],
             [
              0.8888888888888888,
              "#fdca26"
             ],
             [
              1,
              "#f0f921"
             ]
            ],
            "type": "heatmapgl"
           }
          ],
          "histogram": [
           {
            "marker": {
             "pattern": {
              "fillmode": "overlay",
              "size": 10,
              "solidity": 0.2
             }
            },
            "type": "histogram"
           }
          ],
          "histogram2d": [
           {
            "colorbar": {
             "outlinewidth": 0,
             "ticks": ""
            },
            "colorscale": [
             [
              0,
              "#0d0887"
             ],
             [
              0.1111111111111111,
              "#46039f"
             ],
             [
              0.2222222222222222,
              "#7201a8"
             ],
             [
              0.3333333333333333,
              "#9c179e"
             ],
             [
              0.4444444444444444,
              "#bd3786"
             ],
             [
              0.5555555555555556,
              "#d8576b"
             ],
             [
              0.6666666666666666,
              "#ed7953"
             ],
             [
              0.7777777777777778,
              "#fb9f3a"
             ],
             [
              0.8888888888888888,
              "#fdca26"
             ],
             [
              1,
              "#f0f921"
             ]
            ],
            "type": "histogram2d"
           }
          ],
          "histogram2dcontour": [
           {
            "colorbar": {
             "outlinewidth": 0,
             "ticks": ""
            },
            "colorscale": [
             [
              0,
              "#0d0887"
             ],
             [
              0.1111111111111111,
              "#46039f"
             ],
             [
              0.2222222222222222,
              "#7201a8"
             ],
             [
              0.3333333333333333,
              "#9c179e"
             ],
             [
              0.4444444444444444,
              "#bd3786"
             ],
             [
              0.5555555555555556,
              "#d8576b"
             ],
             [
              0.6666666666666666,
              "#ed7953"
             ],
             [
              0.7777777777777778,
              "#fb9f3a"
             ],
             [
              0.8888888888888888,
              "#fdca26"
             ],
             [
              1,
              "#f0f921"
             ]
            ],
            "type": "histogram2dcontour"
           }
          ],
          "mesh3d": [
           {
            "colorbar": {
             "outlinewidth": 0,
             "ticks": ""
            },
            "type": "mesh3d"
           }
          ],
          "parcoords": [
           {
            "line": {
             "colorbar": {
              "outlinewidth": 0,
              "ticks": ""
             }
            },
            "type": "parcoords"
           }
          ],
          "pie": [
           {
            "automargin": true,
            "type": "pie"
           }
          ],
          "scatter": [
           {
            "marker": {
             "colorbar": {
              "outlinewidth": 0,
              "ticks": ""
             }
            },
            "type": "scatter"
           }
          ],
          "scatter3d": [
           {
            "line": {
             "colorbar": {
              "outlinewidth": 0,
              "ticks": ""
             }
            },
            "marker": {
             "colorbar": {
              "outlinewidth": 0,
              "ticks": ""
             }
            },
            "type": "scatter3d"
           }
          ],
          "scattercarpet": [
           {
            "marker": {
             "colorbar": {
              "outlinewidth": 0,
              "ticks": ""
             }
            },
            "type": "scattercarpet"
           }
          ],
          "scattergeo": [
           {
            "marker": {
             "colorbar": {
              "outlinewidth": 0,
              "ticks": ""
             }
            },
            "type": "scattergeo"
           }
          ],
          "scattergl": [
           {
            "marker": {
             "colorbar": {
              "outlinewidth": 0,
              "ticks": ""
             }
            },
            "type": "scattergl"
           }
          ],
          "scattermapbox": [
           {
            "marker": {
             "colorbar": {
              "outlinewidth": 0,
              "ticks": ""
             }
            },
            "type": "scattermapbox"
           }
          ],
          "scatterpolar": [
           {
            "marker": {
             "colorbar": {
              "outlinewidth": 0,
              "ticks": ""
             }
            },
            "type": "scatterpolar"
           }
          ],
          "scatterpolargl": [
           {
            "marker": {
             "colorbar": {
              "outlinewidth": 0,
              "ticks": ""
             }
            },
            "type": "scatterpolargl"
           }
          ],
          "scatterternary": [
           {
            "marker": {
             "colorbar": {
              "outlinewidth": 0,
              "ticks": ""
             }
            },
            "type": "scatterternary"
           }
          ],
          "surface": [
           {
            "colorbar": {
             "outlinewidth": 0,
             "ticks": ""
            },
            "colorscale": [
             [
              0,
              "#0d0887"
             ],
             [
              0.1111111111111111,
              "#46039f"
             ],
             [
              0.2222222222222222,
              "#7201a8"
             ],
             [
              0.3333333333333333,
              "#9c179e"
             ],
             [
              0.4444444444444444,
              "#bd3786"
             ],
             [
              0.5555555555555556,
              "#d8576b"
             ],
             [
              0.6666666666666666,
              "#ed7953"
             ],
             [
              0.7777777777777778,
              "#fb9f3a"
             ],
             [
              0.8888888888888888,
              "#fdca26"
             ],
             [
              1,
              "#f0f921"
             ]
            ],
            "type": "surface"
           }
          ],
          "table": [
           {
            "cells": {
             "fill": {
              "color": "#EBF0F8"
             },
             "line": {
              "color": "white"
             }
            },
            "header": {
             "fill": {
              "color": "#C8D4E3"
             },
             "line": {
              "color": "white"
             }
            },
            "type": "table"
           }
          ]
         },
         "layout": {
          "annotationdefaults": {
           "arrowcolor": "#2a3f5f",
           "arrowhead": 0,
           "arrowwidth": 1
          },
          "autotypenumbers": "strict",
          "coloraxis": {
           "colorbar": {
            "outlinewidth": 0,
            "ticks": ""
           }
          },
          "colorscale": {
           "diverging": [
            [
             0,
             "#8e0152"
            ],
            [
             0.1,
             "#c51b7d"
            ],
            [
             0.2,
             "#de77ae"
            ],
            [
             0.3,
             "#f1b6da"
            ],
            [
             0.4,
             "#fde0ef"
            ],
            [
             0.5,
             "#f7f7f7"
            ],
            [
             0.6,
             "#e6f5d0"
            ],
            [
             0.7,
             "#b8e186"
            ],
            [
             0.8,
             "#7fbc41"
            ],
            [
             0.9,
             "#4d9221"
            ],
            [
             1,
             "#276419"
            ]
           ],
           "sequential": [
            [
             0,
             "#0d0887"
            ],
            [
             0.1111111111111111,
             "#46039f"
            ],
            [
             0.2222222222222222,
             "#7201a8"
            ],
            [
             0.3333333333333333,
             "#9c179e"
            ],
            [
             0.4444444444444444,
             "#bd3786"
            ],
            [
             0.5555555555555556,
             "#d8576b"
            ],
            [
             0.6666666666666666,
             "#ed7953"
            ],
            [
             0.7777777777777778,
             "#fb9f3a"
            ],
            [
             0.8888888888888888,
             "#fdca26"
            ],
            [
             1,
             "#f0f921"
            ]
           ],
           "sequentialminus": [
            [
             0,
             "#0d0887"
            ],
            [
             0.1111111111111111,
             "#46039f"
            ],
            [
             0.2222222222222222,
             "#7201a8"
            ],
            [
             0.3333333333333333,
             "#9c179e"
            ],
            [
             0.4444444444444444,
             "#bd3786"
            ],
            [
             0.5555555555555556,
             "#d8576b"
            ],
            [
             0.6666666666666666,
             "#ed7953"
            ],
            [
             0.7777777777777778,
             "#fb9f3a"
            ],
            [
             0.8888888888888888,
             "#fdca26"
            ],
            [
             1,
             "#f0f921"
            ]
           ]
          },
          "colorway": [
           "#636efa",
           "#EF553B",
           "#00cc96",
           "#ab63fa",
           "#FFA15A",
           "#19d3f3",
           "#FF6692",
           "#B6E880",
           "#FF97FF",
           "#FECB52"
          ],
          "font": {
           "color": "#2a3f5f"
          },
          "geo": {
           "bgcolor": "white",
           "lakecolor": "white",
           "landcolor": "#E5ECF6",
           "showlakes": true,
           "showland": true,
           "subunitcolor": "white"
          },
          "hoverlabel": {
           "align": "left"
          },
          "hovermode": "closest",
          "mapbox": {
           "style": "light"
          },
          "paper_bgcolor": "white",
          "plot_bgcolor": "#E5ECF6",
          "polar": {
           "angularaxis": {
            "gridcolor": "white",
            "linecolor": "white",
            "ticks": ""
           },
           "bgcolor": "#E5ECF6",
           "radialaxis": {
            "gridcolor": "white",
            "linecolor": "white",
            "ticks": ""
           }
          },
          "scene": {
           "xaxis": {
            "backgroundcolor": "#E5ECF6",
            "gridcolor": "white",
            "gridwidth": 2,
            "linecolor": "white",
            "showbackground": true,
            "ticks": "",
            "zerolinecolor": "white"
           },
           "yaxis": {
            "backgroundcolor": "#E5ECF6",
            "gridcolor": "white",
            "gridwidth": 2,
            "linecolor": "white",
            "showbackground": true,
            "ticks": "",
            "zerolinecolor": "white"
           },
           "zaxis": {
            "backgroundcolor": "#E5ECF6",
            "gridcolor": "white",
            "gridwidth": 2,
            "linecolor": "white",
            "showbackground": true,
            "ticks": "",
            "zerolinecolor": "white"
           }
          },
          "shapedefaults": {
           "line": {
            "color": "#2a3f5f"
           }
          },
          "ternary": {
           "aaxis": {
            "gridcolor": "white",
            "linecolor": "white",
            "ticks": ""
           },
           "baxis": {
            "gridcolor": "white",
            "linecolor": "white",
            "ticks": ""
           },
           "bgcolor": "#E5ECF6",
           "caxis": {
            "gridcolor": "white",
            "linecolor": "white",
            "ticks": ""
           }
          },
          "title": {
           "x": 0.05
          },
          "xaxis": {
           "automargin": true,
           "gridcolor": "white",
           "linecolor": "white",
           "ticks": "",
           "title": {
            "standoff": 15
           },
           "zerolinecolor": "white",
           "zerolinewidth": 2
          },
          "yaxis": {
           "automargin": true,
           "gridcolor": "white",
           "linecolor": "white",
           "ticks": "",
           "title": {
            "standoff": 15
           },
           "zerolinecolor": "white",
           "zerolinewidth": 2
          }
         }
        }
       }
      }
     },
     "metadata": {},
     "output_type": "display_data"
    }
   ],
   "source": [
    "# Now we need to plot the growth on a bar chart for the institutes\n",
    "# we will have 8 points : 2006, 2008, 2010, 2012, 2014, 2016, 2018, 2020, 2021\n",
    "\n",
    "import plotly.graph_objects as go\n",
    "\n",
    "# Create figure\n",
    "fig = go.Figure()\n",
    "\n",
    "# Add traces, one for each slider step\n",
    "for step in np.arange(2006, 2021, 1):\n",
    "    fig.add_trace(\n",
    "        go.Bar(\n",
    "            visible=False,\n",
    "            # line=dict(color=\"#00CED1\", width=6),\n",
    "            # name=\"𝜈 = \" + str(step),\n",
    "            x = top_10_institutes,\n",
    "            y = y_paper_count_top_10[step],\n",
    "            name = \"Year=\"+str(step),\n",
    "            \n",
    "            # color = 'rgb(255,0,0)',\n",
    "           ))\n",
    "\n",
    "# Make 10th trace visible\n",
    "fig.data[0].visible = True\n",
    "\n",
    "# Create and add slider\n",
    "steps = []\n",
    "for i in range(len(fig.data)):\n",
    "    step = dict(\n",
    "        method=\"update\",\n",
    "        args=[{\"visible\": [False] * len(fig.data)},\n",
    "              {\"title\": \"Slider switched to Year: \" + str(2006+i)}],  # layout attribute\n",
    "        label = str(2006+i*1),\n",
    "    )\n",
    "    step[\"args\"][0][\"visible\"][i] = True  # Toggle i'th trace to \"visible\"\n",
    "    steps.append(step)\n",
    "\n",
    "sliders = [dict(\n",
    "    active=0,\n",
    "    currentvalue={\"prefix\": \"Trend For Year: \", },\n",
    "    pad={\"t\": 80},\n",
    "    steps=steps\n",
    ")]\n",
    "\n",
    "fig.update_layout(\n",
    "    sliders=sliders\n",
    ")\n",
    "\n",
    "fig.show()"
   ]
  },
  {
   "cell_type": "markdown",
   "metadata": {},
   "source": [
    "The above interactive slider displays the contribution of top 10 organisations in terms of number of research papers published (centered around machine-based learning) in a certain year. \n",
    "\n",
    "The notion of 'top organisations' in our analysis is subject to the cummulative number of papers published over the years. For our dataset available till only the year 2021, we have retrieved the top 10 organisations based on the number of papers published in the duration: 2006-2021. However, due to methodological constraints, the data corresponding to the year 2021 is not complete. \n",
    "\n",
    "We analyse the number of research papers published to abstract the contribution of certain organisations in the mentioned field. Charting such a trend helps to analyse the behaviour of the current top 10 institutes over the years. For example, **DeepMind**, a current top institute in the research field of Deep Learning had no publications in thye year `2006`. However, as the demand and attention towards Deep Learning increased after 2014, the number of publications sore to `301` in the year `2019`. This paradigm shift was a response to the growing demand for faster algorithms for deep learning and related techniques after the year 2014. \n",
    "\n",
    "Interestingly, the year `2020` witnessed the highest number of cumumulative research papers across the top 10 affiliated institutes. The trend explains the boost in current demand of the technology as every manufacturing sector depends on machine-based learning to increase responsiveness. \n",
    "\n",
    "The growth this 'growth' trend spoken-of numerous times is evident as the average number of publications increases tremedously from `25` in the year `2014` to about `290` in the year `2020`."
   ]
  },
  {
   "cell_type": "code",
   "execution_count": null,
   "metadata": {},
   "outputs": [],
   "source": []
  }
 ],
 "metadata": {
  "interpreter": {
   "hash": "6783dcfde693a1fc263a650af04f2a7d4235a9a0ead9ce3baa35eb29be227ea5"
  },
  "kernelspec": {
   "display_name": "Python 3.9.7 ('cs328')",
   "language": "python",
   "name": "python3"
  },
  "language_info": {
   "codemirror_mode": {
    "name": "ipython",
    "version": 3
   },
   "file_extension": ".py",
   "mimetype": "text/x-python",
   "name": "python",
   "nbconvert_exporter": "python",
   "pygments_lexer": "ipython3",
   "version": "3.9.7"
  },
  "orig_nbformat": 4
 },
 "nbformat": 4,
 "nbformat_minor": 2
}
